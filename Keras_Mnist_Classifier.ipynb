{
  "nbformat": 4,
  "nbformat_minor": 0,
  "metadata": {
    "colab": {
      "name": "Keras Mnist Classifier.ipynb",
      "provenance": [],
      "collapsed_sections": [],
      "authorship_tag": "ABX9TyMamtFb3GGTHJpnsNA4IpzY",
      "include_colab_link": true
    },
    "kernelspec": {
      "name": "python3",
      "display_name": "Python 3"
    }
  },
  "cells": [
    {
      "cell_type": "markdown",
      "metadata": {
        "id": "view-in-github",
        "colab_type": "text"
      },
      "source": [
        "<a href=\"https://colab.research.google.com/github/chettkulkarni/deep_learning/blob/master/Keras_Mnist_Classifier.ipynb\" target=\"_parent\"><img src=\"https://colab.research.google.com/assets/colab-badge.svg\" alt=\"Open In Colab\"/></a>"
      ]
    },
    {
      "cell_type": "code",
      "metadata": {
        "id": "2iDwzer57-Al",
        "colab_type": "code",
        "outputId": "bf6454ae-daf9-43fa-b6bc-82bf64c682ce",
        "colab": {
          "base_uri": "https://localhost:8080/",
          "height": 34
        }
      },
      "source": [
        "import random\n",
        "random.seed(1)\n",
        "\n",
        "import pydot\n",
        "import keras\n",
        "import tensorflow as tf\n",
        "tf.random.set_seed(1)"
      ],
      "execution_count": 0,
      "outputs": [
        {
          "output_type": "stream",
          "text": [
            "Using TensorFlow backend.\n"
          ],
          "name": "stderr"
        }
      ]
    },
    {
      "cell_type": "code",
      "metadata": {
        "id": "pAIVJOi68eq_",
        "colab_type": "code",
        "outputId": "c997936a-959a-4a96-a537-a6d325767b78",
        "colab": {
          "base_uri": "https://localhost:8080/",
          "height": 52
        }
      },
      "source": [
        "mnist=keras.datasets.mnist\n",
        "(x_train,y_train),(x_test,y_test)=mnist.load_data()"
      ],
      "execution_count": 0,
      "outputs": [
        {
          "output_type": "stream",
          "text": [
            "Downloading data from https://s3.amazonaws.com/img-datasets/mnist.npz\n",
            "11493376/11490434 [==============================] - 0s 0us/step\n"
          ],
          "name": "stdout"
        }
      ]
    },
    {
      "cell_type": "code",
      "metadata": {
        "id": "N4DHze3O8iY0",
        "colab_type": "code",
        "colab": {}
      },
      "source": [
        "x_train=x_train/255\n",
        "x_test=x_test/255"
      ],
      "execution_count": 0,
      "outputs": []
    },
    {
      "cell_type": "code",
      "metadata": {
        "id": "V0-JdNrG-EOi",
        "colab_type": "code",
        "colab": {}
      },
      "source": [
        "model=keras.models.Sequential()\n",
        "model.add(keras.layers.Flatten(input_shape=[28,28]))\n",
        "model.add(keras.layers.Dense(300,activation='relu'))\n",
        "model.add(keras.layers.Dense(100,activation='relu'))\n",
        "model.add(keras.layers.Dense(10,activation='softmax'))"
      ],
      "execution_count": 0,
      "outputs": []
    },
    {
      "cell_type": "code",
      "metadata": {
        "id": "RGdxuoPf-jD0",
        "colab_type": "code",
        "outputId": "4e0d40c2-eb30-4bd1-8dde-ded041611e74",
        "colab": {
          "base_uri": "https://localhost:8080/",
          "height": 294
        }
      },
      "source": [
        "model.summary()"
      ],
      "execution_count": 0,
      "outputs": [
        {
          "output_type": "stream",
          "text": [
            "Model: \"sequential_1\"\n",
            "_________________________________________________________________\n",
            "Layer (type)                 Output Shape              Param #   \n",
            "=================================================================\n",
            "flatten_1 (Flatten)          (None, 784)               0         \n",
            "_________________________________________________________________\n",
            "dense_1 (Dense)              (None, 300)               235500    \n",
            "_________________________________________________________________\n",
            "dense_2 (Dense)              (None, 100)               30100     \n",
            "_________________________________________________________________\n",
            "dense_3 (Dense)              (None, 10)                1010      \n",
            "=================================================================\n",
            "Total params: 266,610\n",
            "Trainable params: 266,610\n",
            "Non-trainable params: 0\n",
            "_________________________________________________________________\n"
          ],
          "name": "stdout"
        }
      ]
    },
    {
      "cell_type": "code",
      "metadata": {
        "id": "byVxxk2-9hkj",
        "colab_type": "code",
        "outputId": "94bdb26c-3340-4234-a5ff-b0d0e7685e1a",
        "colab": {
          "base_uri": "https://localhost:8080/",
          "height": 466
        }
      },
      "source": [
        "keras.utils.plot_model(model)"
      ],
      "execution_count": 0,
      "outputs": [
        {
          "output_type": "execute_result",
          "data": {
            "image/png": "[encoded data removed]",
            "text/plain": [
              "<IPython.core.display.Image object>"
            ]
          },
          "metadata": {
            "tags": []
          },
          "execution_count": 6
        }
      ]
    },
    {
      "cell_type": "code",
      "metadata": {
        "id": "AD2T_kD29lzP",
        "colab_type": "code",
        "colab": {}
      },
      "source": [
        "model.compile(loss='sparse_categorical_crossentropy',optimizer='sgd',metrics=['accuracy'])"
      ],
      "execution_count": 0,
      "outputs": []
    },
    {
      "cell_type": "code",
      "metadata": {
        "id": "Heqb6hxP96Qa",
        "colab_type": "code",
        "outputId": "f31441e5-bec3-49f5-a32d-8d7d567c21fb",
        "colab": {
          "base_uri": "https://localhost:8080/",
          "height": 1000
        }
      },
      "source": [
        "model_history=model.fit(x_train,y_train,epochs=30)"
      ],
      "execution_count": 0,
      "outputs": [
        {
          "output_type": "stream",
          "text": [
            "Epoch 1/30\n",
            "60000/60000 [==============================] - 6s 97us/step - loss: 0.5812 - accuracy: 0.8461\n",
            "Epoch 2/30\n",
            "60000/60000 [==============================] - 6s 92us/step - loss: 0.2742 - accuracy: 0.9219\n",
            "Epoch 3/30\n",
            "60000/60000 [==============================] - 6s 92us/step - loss: 0.2222 - accuracy: 0.9367\n",
            "Epoch 4/30\n",
            "60000/60000 [==============================] - 6s 94us/step - loss: 0.1887 - accuracy: 0.9460\n",
            "Epoch 5/30\n",
            "60000/60000 [==============================] - 6s 95us/step - loss: 0.1641 - accuracy: 0.9533\n",
            "Epoch 6/30\n",
            "60000/60000 [==============================] - 6s 96us/step - loss: 0.1455 - accuracy: 0.9588\n",
            "Epoch 7/30\n",
            "60000/60000 [==============================] - 6s 94us/step - loss: 0.1306 - accuracy: 0.9625\n",
            "Epoch 8/30\n",
            "60000/60000 [==============================] - 6s 94us/step - loss: 0.1175 - accuracy: 0.9669\n",
            "Epoch 9/30\n",
            "60000/60000 [==============================] - 6s 98us/step - loss: 0.1069 - accuracy: 0.9696\n",
            "Epoch 10/30\n",
            "60000/60000 [==============================] - 6s 96us/step - loss: 0.0978 - accuracy: 0.9725\n",
            "Epoch 11/30\n",
            "60000/60000 [==============================] - 6s 95us/step - loss: 0.0898 - accuracy: 0.9748\n",
            "Epoch 12/30\n",
            "60000/60000 [==============================] - 6s 93us/step - loss: 0.0828 - accuracy: 0.9766\n",
            "Epoch 13/30\n",
            "60000/60000 [==============================] - 6s 94us/step - loss: 0.0769 - accuracy: 0.9785\n",
            "Epoch 14/30\n",
            "60000/60000 [==============================] - 6s 92us/step - loss: 0.0711 - accuracy: 0.9805\n",
            "Epoch 15/30\n",
            "60000/60000 [==============================] - 6s 94us/step - loss: 0.0662 - accuracy: 0.9819\n",
            "Epoch 16/30\n",
            "60000/60000 [==============================] - 6s 96us/step - loss: 0.0614 - accuracy: 0.9833\n",
            "Epoch 17/30\n",
            "60000/60000 [==============================] - 6s 100us/step - loss: 0.0577 - accuracy: 0.9843\n",
            "Epoch 18/30\n",
            "60000/60000 [==============================] - 6s 94us/step - loss: 0.0537 - accuracy: 0.9855\n",
            "Epoch 19/30\n",
            "60000/60000 [==============================] - 6s 93us/step - loss: 0.0507 - accuracy: 0.9864\n",
            "Epoch 20/30\n",
            "60000/60000 [==============================] - 6s 93us/step - loss: 0.0475 - accuracy: 0.9873\n",
            "Epoch 21/30\n",
            "60000/60000 [==============================] - 6s 95us/step - loss: 0.0445 - accuracy: 0.9886\n",
            "Epoch 22/30\n",
            "60000/60000 [==============================] - 6s 95us/step - loss: 0.0417 - accuracy: 0.9893\n",
            "Epoch 23/30\n",
            "60000/60000 [==============================] - 6s 96us/step - loss: 0.0392 - accuracy: 0.9901\n",
            "Epoch 24/30\n",
            "60000/60000 [==============================] - 6s 95us/step - loss: 0.0370 - accuracy: 0.9909\n",
            "Epoch 25/30\n",
            "60000/60000 [==============================] - 6s 96us/step - loss: 0.0347 - accuracy: 0.9913\n",
            "Epoch 26/30\n",
            "60000/60000 [==============================] - 6s 95us/step - loss: 0.0328 - accuracy: 0.9920\n",
            "Epoch 27/30\n",
            "60000/60000 [==============================] - 6s 94us/step - loss: 0.0310 - accuracy: 0.9927\n",
            "Epoch 28/30\n",
            "60000/60000 [==============================] - 6s 96us/step - loss: 0.0293 - accuracy: 0.9933\n",
            "Epoch 29/30\n",
            "60000/60000 [==============================] - 6s 95us/step - loss: 0.0276 - accuracy: 0.9934\n",
            "Epoch 30/30\n",
            "60000/60000 [==============================] - 6s 94us/step - loss: 0.0261 - accuracy: 0.9941\n"
          ],
          "name": "stdout"
        }
      ]
    },
    {
      "cell_type": "code",
      "metadata": {
        "id": "eGjuhS4D-1PY",
        "colab_type": "code",
        "outputId": "b1eb8989-020b-49e8-a652-ad92573e62ed",
        "colab": {
          "base_uri": "https://localhost:8080/",
          "height": 341
        }
      },
      "source": [
        "import pandas as pd\n",
        "pd.DataFrame(model_history.history).plot(figsize=(8,5))\n",
        "import matplotlib.pyplot as plt\n",
        "\n",
        "plt.grid(True)\n",
        "plt.gca().set_ylim(0,1)"
      ],
      "execution_count": 0,
      "outputs": [
        {
          "output_type": "execute_result",
          "data": {
            "text/plain": [
              "(0.0, 1.0)"
            ]
          },
          "metadata": {
            "tags": []
          },
          "execution_count": 9
        },
        {
          "output_type": "display_data",
          "data": {
            "image/png": "[encoded data removed]",
            "text/plain": [
              "<Figure size 576x360 with 1 Axes>"
            ]
          },
          "metadata": {
            "tags": [],
            "needs_background": "light"
          }
        }
      ]
    },
    {
      "cell_type": "code",
      "metadata": {
        "id": "Nb2sXVtUAg3n",
        "colab_type": "code",
        "colab": {}
      },
      "source": [
        "y_predicted=model.predict_classes(x_test)"
      ],
      "execution_count": 0,
      "outputs": []
    },
    {
      "cell_type": "code",
      "metadata": {
        "id": "pX0-EEzfAmMl",
        "colab_type": "code",
        "outputId": "c71bad88-c2f7-4799-f09a-65f316ba6c35",
        "colab": {
          "base_uri": "https://localhost:8080/",
          "height": 34
        }
      },
      "source": [
        "y_predicted"
      ],
      "execution_count": 0,
      "outputs": [
        {
          "output_type": "execute_result",
          "data": {
            "text/plain": [
              "array([7, 2, 1, ..., 4, 5, 6])"
            ]
          },
          "metadata": {
            "tags": []
          },
          "execution_count": 11
        }
      ]
    },
    {
      "cell_type": "code",
      "metadata": {
        "id": "vFzTpzuwAofv",
        "colab_type": "code",
        "colab": {}
      },
      "source": [
        ""
      ],
      "execution_count": 0,
      "outputs": []
    }
  ]
}