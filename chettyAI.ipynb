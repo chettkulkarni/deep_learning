{
  "nbformat": 4,
  "nbformat_minor": 0,
  "metadata": {
    "colab": {
      "name": "chettyAI.ipynb",
      "provenance": [],
      "authorship_tag": "ABX9TyMEh8LTUyAgRRd9g8qiJt4A",
      "include_colab_link": true
    },
    "kernelspec": {
      "name": "python3",
      "display_name": "Python 3"
    },
    "accelerator": "GPU"
  },
  "cells": [
    {
      "cell_type": "markdown",
      "metadata": {
        "id": "view-in-github",
        "colab_type": "text"
      },
      "source": [
        "<a href=\"https://colab.research.google.com/github/chettkulkarni/deep_learning/blob/master/chettyAI.ipynb\" target=\"_parent\"><img src=\"https://colab.research.google.com/assets/colab-badge.svg\" alt=\"Open In Colab\"/></a>"
      ]
    },
    {
      "cell_type": "code",
      "metadata": {
        "id": "AGR3kW2_-uBw",
        "colab_type": "code",
        "colab": {
          "base_uri": "https://localhost:8080/",
          "height": 80
        },
        "outputId": "90a0c897-aa7e-406d-fa10-0154c1acaed7"
      },
      "source": [
        "import numpy as np\n",
        "from numpy import *\n",
        "import numpy as np\n",
        "import keras\n",
        "import matplotlib.pyplot as plt\n",
        "from tqdm import trange\n",
        "from keras.preprocessing.image import ImageDataGenerator\n",
        "\n",
        "\n",
        "np.random.seed(1)"
      ],
      "execution_count": 1,
      "outputs": [
        {
          "output_type": "stream",
          "text": [
            "Using TensorFlow backend.\n"
          ],
          "name": "stderr"
        },
        {
          "output_type": "display_data",
          "data": {
            "text/html": [
              "<p style=\"color: red;\">\n",
              "The default version of TensorFlow in Colab will soon switch to TensorFlow 2.x.<br>\n",
              "We recommend you <a href=\"https://www.tensorflow.org/guide/migrate\" target=\"_blank\">upgrade</a> now \n",
              "or ensure your notebook will continue to use TensorFlow 1.x via the <code>%tensorflow_version 1.x</code> magic:\n",
              "<a href=\"https://colab.research.google.com/notebooks/tensorflow_version.ipynb\" target=\"_blank\">more info</a>.</p>\n"
            ],
            "text/plain": [
              "<IPython.core.display.HTML object>"
            ]
          },
          "metadata": {
            "tags": []
          }
        }
      ]
    },
    {
      "cell_type": "code",
      "metadata": {
        "id": "_JL7ZSKDELW8",
        "colab_type": "code",
        "colab": {
          "base_uri": "https://localhost:8080/",
          "height": 51
        },
        "outputId": "ba951f66-e110-410d-8814-1c43c205c111"
      },
      "source": [
        "(train_images, train_labels), (test_images, test_labels)  = keras.datasets.mnist.load_data()\n",
        "# normalizing X\n",
        "train_images = train_images.reshape(len(train_images), 28*28)/255\n",
        "test_images = test_images.reshape(len(test_images), 28*28)/255\n",
        "\n",
        "\n",
        "one_hot_train_labels = np.zeros((len(train_labels), 10)) \n",
        "for i, l in enumerate(train_labels): \n",
        "  one_hot_train_labels[i][l]=1 \n",
        "\n",
        "one_hot_test_labels = np.zeros((len(test_labels), 10)) \n",
        "for i, l in enumerate(test_labels): \n",
        "  one_hot_test_labels[i][l]=1"
      ],
      "execution_count": 2,
      "outputs": [
        {
          "output_type": "stream",
          "text": [
            "Downloading data from https://s3.amazonaws.com/img-datasets/mnist.npz\n",
            "11493376/11490434 [==============================] - 2s 0us/step\n"
          ],
          "name": "stdout"
        }
      ]
    },
    {
      "cell_type": "code",
      "metadata": {
        "id": "LnOi_CGYErKl",
        "colab_type": "code",
        "colab": {}
      },
      "source": [
        "images=train_images\n",
        "labels=one_hot_train_labels"
      ],
      "execution_count": 0,
      "outputs": []
    },
    {
      "cell_type": "code",
      "metadata": {
        "id": "Rbz1AvHt-2xM",
        "colab_type": "code",
        "colab": {}
      },
      "source": [
        "def relu(x):\n",
        "  return (x>=0)*x"
      ],
      "execution_count": 0,
      "outputs": []
    },
    {
      "cell_type": "code",
      "metadata": {
        "id": "HypGWIJt_DLV",
        "colab_type": "code",
        "colab": {}
      },
      "source": [
        "def relu2deriv(x):\n",
        "  return x>=0"
      ],
      "execution_count": 0,
      "outputs": []
    },
    {
      "cell_type": "code",
      "metadata": {
        "id": "8SH98jvo_KPc",
        "colab_type": "code",
        "colab": {}
      },
      "source": [
        "batch_size=100"
      ],
      "execution_count": 0,
      "outputs": []
    },
    {
      "cell_type": "code",
      "metadata": {
        "id": "ZnPh8Ot1_MlK",
        "colab_type": "code",
        "colab": {}
      },
      "source": [
        "alpha,iterations=(0.001,100)"
      ],
      "execution_count": 0,
      "outputs": []
    },
    {
      "cell_type": "code",
      "metadata": {
        "id": "O-zvmGWr_RTc",
        "colab_type": "code",
        "colab": {}
      },
      "source": [
        "ppi,num_labels,hidden_size=(784,10,100)"
      ],
      "execution_count": 0,
      "outputs": []
    },
    {
      "cell_type": "code",
      "metadata": {
        "id": "Ef1x_EkYPKr_",
        "colab_type": "code",
        "colab": {}
      },
      "source": [
        "no_of_different_labels = 10"
      ],
      "execution_count": 0,
      "outputs": []
    },
    {
      "cell_type": "code",
      "metadata": {
        "id": "f7Ft2cCl_Wtj",
        "colab_type": "code",
        "colab": {}
      },
      "source": [
        "weights_0_1=0.2*np.random.random((ppi,hidden_size))-0.1"
      ],
      "execution_count": 0,
      "outputs": []
    },
    {
      "cell_type": "code",
      "metadata": {
        "id": "JQxtifuyBclJ",
        "colab_type": "code",
        "colab": {}
      },
      "source": [
        "weights_1_2=0.2*np.random.random((hidden_size,hidden_size))-0.1"
      ],
      "execution_count": 0,
      "outputs": []
    },
    {
      "cell_type": "code",
      "metadata": {
        "id": "GNk-7TuiZbuo",
        "colab_type": "code",
        "colab": {}
      },
      "source": [
        "weights_2_3=0.2*np.random.random((hidden_size,num_labels))-0.1"
      ],
      "execution_count": 0,
      "outputs": []
    },
    {
      "cell_type": "code",
      "metadata": {
        "id": "Fc7WZlZc_u7s",
        "colab_type": "code",
        "colab": {
          "base_uri": "https://localhost:8080/",
          "height": 34
        },
        "outputId": "bfe925c2-03f5-4499-82c8-5e2713bed89c"
      },
      "source": [
        "weights_0_1.shape"
      ],
      "execution_count": 15,
      "outputs": [
        {
          "output_type": "execute_result",
          "data": {
            "text/plain": [
              "(784, 100)"
            ]
          },
          "metadata": {
            "tags": []
          },
          "execution_count": 15
        }
      ]
    },
    {
      "cell_type": "code",
      "metadata": {
        "id": "V2SLddV7DAIA",
        "colab_type": "code",
        "colab": {
          "base_uri": "https://localhost:8080/",
          "height": 34
        },
        "outputId": "6e0edb30-89a7-4e4e-87fc-6fb858e7357c"
      },
      "source": [
        "weights_0_1.shape,weights_1_2.shape"
      ],
      "execution_count": 16,
      "outputs": [
        {
          "output_type": "execute_result",
          "data": {
            "text/plain": [
              "((784, 100), (100, 100))"
            ]
          },
          "metadata": {
            "tags": []
          },
          "execution_count": 16
        }
      ]
    },
    {
      "cell_type": "code",
      "metadata": {
        "id": "RBO1yFYW_10H",
        "colab_type": "code",
        "colab": {
          "base_uri": "https://localhost:8080/",
          "height": 51
        },
        "outputId": "0d824cb6-9ea9-4117-c8eb-845a3a015b96"
      },
      "source": [
        "for j in range(iterations):\n",
        "  error,correct_cnt=(0.0,0)\n",
        "  for i in range(int(len(images)/batch_size)):\n",
        "    batch_start,batch_end=((i*batch_size),((i+1)*batch_size))\n",
        "\n",
        "    layer_0=images[batch_start:batch_end]\n",
        "    layer_1=relu(np.dot(layer_0,weights_0_1))\n",
        "\n",
        "    # dropout_mask = np.random.randint(2,size=layer_1.shape)\n",
        "\n",
        "    # layer_1 *= dropout_mask *2\n",
        "\n",
        "    layer_2=relu(np.dot(layer_1,weights_1_2))\n",
        "\n",
        "    # dropout_mask = np.random.randint(2,size=layer_2.shape)\n",
        "    # layer_2 *= dropout_mask *2\n",
        "\n",
        "    layer_3 = np.dot(layer_2,weights_2_3)\n",
        "\n",
        "\n",
        "    error += np.sum((labels[batch_start:batch_end]-layer_3)**2)\n",
        "\n",
        "    for k in range(batch_size):\n",
        "      correct_cnt += int(np.argmax(layer_2[k:k+1])==np.argmax(labels[batch_start+k:batch_start+k+1]))\n",
        "      \n",
        "      layer_3_delta=(labels[batch_start:batch_end]-layer_3)/batch_size\n",
        "\n",
        "      layer_2_delta = layer_3_delta.dot(weights_2_3.T)*relu2deriv(layer_2)\n",
        "      # layer_2_delta *= dropout_mask\n",
        "\n",
        "\n",
        "\n",
        "      layer_1_delta = layer_2_delta.dot(weights_1_2.T)*relu2deriv(layer_1)\n",
        "      # layer_1_delta *= dropout_mask\n",
        "\n",
        "      weights_2_3 += alpha*layer_2.T.dot(layer_3_delta)\n",
        "      weights_1_2 += alpha*layer_1.T.dot(layer_2_delta)\n",
        "      weights_0_1 += alpha*layer_0.T.dot(layer_1_delta)\n",
        "\n",
        "    \n",
        "  if j%10==0:\n",
        "    test_error=0.0\n",
        "    test_correct_cnt=0\n",
        "\n",
        "    for i in range(len(test_images)):\n",
        "      layer_0 = test_images[i:i+1]\n",
        "      layer_1 = relu(np.dot(layer_0,weights_0_1))\n",
        "      layer_2 =np.dot(layer_1,weights_1_2)\n",
        "      layer_3 =np.dot(layer_2,weights_2_3)\n",
        "      test_correct_cnt += int(np.argmax(layer_3)==np.argmax(one_hot_test_labels[i:i+1]))\n",
        "\n",
        "    if j%10==0:\n",
        "      print(str(j),test_correct_cnt/float(len(test_images)))\n",
        "      print(str(j),correct_cnt/float(len(images)))\n"
      ],
      "execution_count": 0,
      "outputs": [
        {
          "output_type": "stream",
          "text": [
            "0 0.8563\n",
            "0 0.0111\n"
          ],
          "name": "stdout"
        }
      ]
    },
    {
      "cell_type": "code",
      "metadata": {
        "id": "mKYkab8ZAKcO",
        "colab_type": "code",
        "colab": {}
      },
      "source": [
        "images.shape"
      ],
      "execution_count": 0,
      "outputs": []
    },
    {
      "cell_type": "code",
      "metadata": {
        "id": "rrFO8BibFf6_",
        "colab_type": "code",
        "colab": {}
      },
      "source": [
        "layer_2.shape"
      ],
      "execution_count": 0,
      "outputs": []
    },
    {
      "cell_type": "code",
      "metadata": {
        "id": "8rNxQSzeI3Na",
        "colab_type": "code",
        "colab": {}
      },
      "source": [
        "(layer_0.shape,layer_1.shape,layer_2.shape,labels[batch_start:batch_end].shape)"
      ],
      "execution_count": 0,
      "outputs": []
    },
    {
      "cell_type": "code",
      "metadata": {
        "id": "5eP6KMo1I-R1",
        "colab_type": "code",
        "colab": {}
      },
      "source": [
        "error_god=labels[batch_start:batch_end]"
      ],
      "execution_count": 0,
      "outputs": []
    },
    {
      "cell_type": "code",
      "metadata": {
        "id": "NkvQMmdeNJrB",
        "colab_type": "code",
        "colab": {}
      },
      "source": [
        "error_god"
      ],
      "execution_count": 0,
      "outputs": []
    },
    {
      "cell_type": "code",
      "metadata": {
        "id": "Guimizm0NKy4",
        "colab_type": "code",
        "colab": {}
      },
      "source": [
        "layer_2[0]"
      ],
      "execution_count": 0,
      "outputs": []
    },
    {
      "cell_type": "code",
      "metadata": {
        "id": "lXElZDbjNPtm",
        "colab_type": "code",
        "colab": {}
      },
      "source": [
        ""
      ],
      "execution_count": 0,
      "outputs": []
    }
  ]
}