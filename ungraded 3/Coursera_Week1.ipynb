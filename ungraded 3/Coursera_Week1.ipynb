{
  "nbformat": 4,
  "nbformat_minor": 0,
  "metadata": {
    "colab": {
      "name": "Coursera_Week1.ipynb",
      "provenance": [],
      "collapsed_sections": [],
      "include_colab_link": true
    },
    "kernelspec": {
      "name": "python3",
      "display_name": "Python 3"
    }
  },
  "cells": [
    {
      "cell_type": "markdown",
      "metadata": {
        "id": "view-in-github",
        "colab_type": "text"
      },
      "source": [
        "<a href=\"https://colab.research.google.com/github/chettkulkarni/deep_learning/blob/master/ungraded%203/Coursera_Week1.ipynb\" target=\"_parent\"><img src=\"https://colab.research.google.com/assets/colab-badge.svg\" alt=\"Open In Colab\"/></a>"
      ]
    },
    {
      "cell_type": "markdown",
      "metadata": {
        "id": "mnakzls4kpK3",
        "colab_type": "text"
      },
      "source": [
        "Import Packages"
      ]
    },
    {
      "cell_type": "code",
      "metadata": {
        "id": "FkVvrWj12Zpp",
        "colab_type": "code",
        "colab": {}
      },
      "source": [
        "import numpy as np\n",
        "import matplotlib.pyplot as plt\n",
        "import h5py\n",
        "import scipy\n",
        "from PIL import Image\n",
        "from scipy import ndimage\n",
        "%matplotlib inline\n",
        "# Example of a picture\n",
        "import random"
      ],
      "execution_count": 0,
      "outputs": []
    },
    {
      "cell_type": "code",
      "metadata": {
        "id": "y9QBxGTRfnl9",
        "colab_type": "code",
        "outputId": "4041b092-8363-4c3a-a495-4656c78484ce",
        "colab": {
          "base_uri": "https://localhost:8080/",
          "height": 68
        }
      },
      "source": [
        "%pip install h5py"
      ],
      "execution_count": 0,
      "outputs": [
        {
          "output_type": "stream",
          "text": [
            "Requirement already satisfied: h5py in /usr/local/lib/python3.6/dist-packages (2.10.0)\n",
            "Requirement already satisfied: numpy>=1.7 in /usr/local/lib/python3.6/dist-packages (from h5py) (1.18.2)\n",
            "Requirement already satisfied: six in /usr/local/lib/python3.6/dist-packages (from h5py) (1.12.0)\n"
          ],
          "name": "stdout"
        }
      ]
    },
    {
      "cell_type": "markdown",
      "metadata": {
        "id": "iZKu6USektM8",
        "colab_type": "text"
      },
      "source": [
        "Mount Drive"
      ]
    },
    {
      "cell_type": "code",
      "metadata": {
        "id": "SwiRSWjyjPuG",
        "colab_type": "code",
        "outputId": "410ddd54-1b1f-4113-9197-457f8a37404e",
        "colab": {
          "base_uri": "https://localhost:8080/",
          "height": 34
        }
      },
      "source": [
        "!pip install -U -q PyDrive\n",
        "from pydrive.auth import GoogleAuth\n",
        "from pydrive.drive import GoogleDrive\n",
        "from google.colab import auth\n",
        "from oauth2client.client import GoogleCredentials\n",
        "# Authenticate and create the PyDrive client.\n",
        "auth.authenticate_user()\n",
        "gauth = GoogleAuth()\n",
        "gauth.credentials = GoogleCredentials.get_application_default()\n",
        "drive = GoogleDrive(gauth)\n",
        "\n",
        "link = 'https://drive.google.com/open?id=1jcq4HQZW7x1uLkC_sc_O8hrZUTRYrK7S'\n",
        "fluff, id = link.split('=')\n",
        "print (id) # Verify that you have everything after '='\n",
        "\n",
        "\n",
        "downloaded = drive.CreateFile({'id':id}) \n",
        "downloaded.GetContentFile('train.h5')"
      ],
      "execution_count": 0,
      "outputs": [
        {
          "output_type": "stream",
          "text": [
            "1jcq4HQZW7x1uLkC_sc_O8hrZUTRYrK7S\n"
          ],
          "name": "stdout"
        }
      ]
    },
    {
      "cell_type": "markdown",
      "metadata": {
        "id": "oVyUk5x9kuxA",
        "colab_type": "text"
      },
      "source": [
        "Set file path for train and test dataset"
      ]
    },
    {
      "cell_type": "code",
      "metadata": {
        "id": "ovEt2U-Coz6k",
        "colab_type": "code",
        "outputId": "232e76ad-1725-4d4c-f0a9-d1bf536138ac",
        "colab": {
          "base_uri": "https://localhost:8080/",
          "height": 34
        }
      },
      "source": [
        "link = 'https://drive.google.com/open?id=1MQnb5Kp7Es87SRoHL_U0ANnTr7vYpnKu'\n",
        "fluff, id = link.split('=')\n",
        "print (id) # Verify that you have everything after '='\n",
        "\n",
        "\n",
        "downloaded = drive.CreateFile({'id':id}) \n",
        "downloaded.GetContentFile('test.h5')"
      ],
      "execution_count": 0,
      "outputs": [
        {
          "output_type": "stream",
          "text": [
            "1MQnb5Kp7Es87SRoHL_U0ANnTr7vYpnKu\n"
          ],
          "name": "stdout"
        }
      ]
    },
    {
      "cell_type": "markdown",
      "metadata": {
        "id": "YMwwTopZkxmk",
        "colab_type": "text"
      },
      "source": [
        "Load the data (cat/non-cat)"
      ]
    },
    {
      "cell_type": "code",
      "metadata": {
        "id": "CIXgkD-haq0Q",
        "colab_type": "code",
        "colab": {}
      },
      "source": [
        "\n",
        "train_dataset = h5py.File('train.h5', \"r\")\n",
        "train_set_x_orig = np.array(train_dataset[\"train_set_x\"][:])\n",
        "train_set_y_orig = np.array(train_dataset[\"train_set_y\"][:])\n",
        " \n",
        "test_dataset = h5py.File('test.h5', \"r\")\n",
        "test_set_x_orig = np.array(test_dataset[\"test_set_x\"][:]) # test set features\n",
        "test_set_y_orig = np.array(test_dataset[\"test_set_y\"][:]) # test set labels\n",
        " \n",
        "classes = np.array(test_dataset[\"list_classes\"][:]) # the list of classes\n",
        " \n",
        "train_set_y = train_set_y_orig.reshape((1, train_set_y_orig.shape[0]))\n",
        "test_set_y = test_set_y_orig.reshape((1, test_set_y_orig.shape[0]))"
      ],
      "execution_count": 0,
      "outputs": []
    },
    {
      "cell_type": "code",
      "metadata": {
        "id": "E4kDWZV4klMO",
        "colab_type": "code",
        "outputId": "8156437e-983a-4d34-f739-82d6bbf146d3",
        "colab": {
          "base_uri": "https://localhost:8080/",
          "height": 285
        }
      },
      "source": [
        "\n",
        "index = random.randint(1,100)\n",
        "plt.imshow(train_set_x_orig[index])\n",
        "print (\"y = \" + str(train_set_y[:, index]) + \", it's a '\" + classes[np.squeeze(train_set_y[:, index])].decode(\"utf-8\") +  \"' picture.\")"
      ],
      "execution_count": 0,
      "outputs": [
        {
          "output_type": "stream",
          "text": [
            "y = [0], it's a 'non-cat' picture.\n"
          ],
          "name": "stdout"
        },
        {
          "output_type": "display_data",
          "data": {
            "image/png": "[encoded data removed]",
            "text/plain": [
              "<Figure size 432x288 with 1 Axes>"
            ]
          },
          "metadata": {
            "tags": [],
            "needs_background": "light"
          }
        }
      ]
    },
    {
      "cell_type": "markdown",
      "metadata": {
        "id": "Nvy1I8QYna-X",
        "colab_type": "text"
      },
      "source": [
        "Reshape the training and test data sets so that images of size (num_px, num_px, 3) are flattened into single vectors of shape (num_px  ∗∗  num_px  ∗∗  3, 1)."
      ]
    },
    {
      "cell_type": "code",
      "metadata": {
        "id": "9bKWMmj0kh89",
        "colab_type": "code",
        "outputId": "6cd5cfe7-6188-480f-edd8-b27e163cd76f",
        "colab": {
          "base_uri": "https://localhost:8080/",
          "height": 104
        }
      },
      "source": [
        "# Reshape the training and test examples\n",
        "\n",
        "### START CODE HERE ### (≈ 2 lines of code)\n",
        "train_set_x_flatten = train_set_x_orig.reshape(train_set_x_orig.shape[0], -1).T\n",
        "test_set_x_flatten = test_set_x_orig.reshape(test_set_x_orig.shape[0], -1).T \n",
        "### END CODE HERE ###\n",
        "\n",
        "print (\"train_set_x_flatten shape: \" + str(train_set_x_flatten.shape))\n",
        "print (\"train_set_y shape: \" + str(train_set_y.shape))\n",
        "print (\"test_set_x_flatten shape: \" + str(test_set_x_flatten.shape))\n",
        "print (\"test_set_y shape: \" + str(test_set_y.shape))\n",
        "print (\"sanity check after reshaping: \" + str(train_set_x_flatten[0:5,0]))"
      ],
      "execution_count": 0,
      "outputs": [
        {
          "output_type": "stream",
          "text": [
            "train_set_x_flatten shape: (12288, 209)\n",
            "train_set_y shape: (1, 209)\n",
            "test_set_x_flatten shape: (12288, 50)\n",
            "test_set_y shape: (1, 50)\n",
            "sanity check after reshaping: [17 31 56 22 33]\n"
          ],
          "name": "stdout"
        }
      ]
    },
    {
      "cell_type": "markdown",
      "metadata": {
        "id": "70HrMlEunp_3",
        "colab_type": "text"
      },
      "source": [
        "Standardize the dataset."
      ]
    },
    {
      "cell_type": "code",
      "metadata": {
        "id": "McXTaBS9ndBC",
        "colab_type": "code",
        "colab": {}
      },
      "source": [
        "train_set_x = train_set_x_flatten/255.\n",
        "test_set_x = test_set_x_flatten/255."
      ],
      "execution_count": 0,
      "outputs": []
    },
    {
      "cell_type": "markdown",
      "metadata": {
        "id": "0dzFzzkioFb7",
        "colab_type": "text"
      },
      "source": [
        "##Logistic Regression"
      ]
    },
    {
      "cell_type": "code",
      "metadata": {
        "id": "_ksfeWE9ntzU",
        "colab_type": "code",
        "colab": {}
      },
      "source": [
        "#sigmoid Helper Function\n",
        "\n",
        "def sigmoid(z):\n",
        "    \"\"\"\n",
        "    Compute the sigmoid of z\n",
        "\n",
        "    Arguments:\n",
        "    z -- A scalar or numpy array of any size.\n",
        "\n",
        "    Return:\n",
        "    s -- sigmoid(z)\n",
        "    \"\"\"\n",
        "\n",
        "    ### START CODE HERE ### (≈ 1 line of code)\n",
        "    s = 1 / (1 + (np.exp(-z)))\n",
        "    ### END CODE HERE ###\n",
        "    \n",
        "    return s"
      ],
      "execution_count": 0,
      "outputs": []
    },
    {
      "cell_type": "code",
      "metadata": {
        "id": "7iB7lsG1tWnQ",
        "colab_type": "code",
        "outputId": "483965fe-8121-4c27-8c10-4e7aa745eeb2",
        "colab": {
          "base_uri": "https://localhost:8080/",
          "height": 34
        }
      },
      "source": [
        "print (\"sigmoid([0, 2]) = \" + str(sigmoid(np.array([0,2]))))"
      ],
      "execution_count": 0,
      "outputs": [
        {
          "output_type": "stream",
          "text": [
            "sigmoid([0, 2]) = [0.5        0.88079708]\n"
          ],
          "name": "stdout"
        }
      ]
    },
    {
      "cell_type": "markdown",
      "metadata": {
        "id": "TuZyvEMItaVI",
        "colab_type": "text"
      },
      "source": [
        "Initializing parameters"
      ]
    },
    {
      "cell_type": "code",
      "metadata": {
        "id": "UHn9gpiutYRj",
        "colab_type": "code",
        "colab": {}
      },
      "source": [
        "#initialize_with_zeros\n",
        "\n",
        "def initialize_with_zeros(dim):\n",
        "    \"\"\"\n",
        "    This function creates a vector of zeros of shape (dim, 1) for w and initializes b to 0.\n",
        "    \n",
        "    Argument:\n",
        "    dim -- size of the w vector we want (or number of parameters in this case)\n",
        "    \n",
        "    Returns:\n",
        "    w -- initialized vector of shape (dim, 1)\n",
        "    b -- initialized scalar (corresponds to the bias)\n",
        "    \"\"\"\n",
        "    \n",
        "    ### START CODE HERE ### (≈ 1 line of code)\n",
        "    w = np.zeros((dim, 1))\n",
        "    b = 0\n",
        "    ### END CODE HERE ###\n",
        "\n",
        "    assert(w.shape == (dim, 1))\n",
        "    assert(isinstance(b, float) or isinstance(b, int))\n",
        "    \n",
        "    return w, b"
      ],
      "execution_count": 0,
      "outputs": []
    },
    {
      "cell_type": "code",
      "metadata": {
        "id": "WFEoKUUfteEs",
        "colab_type": "code",
        "outputId": "a93e7180-4b37-40f9-a16b-277bdff93c8f",
        "colab": {
          "base_uri": "https://localhost:8080/",
          "height": 69
        }
      },
      "source": [
        "dim = 2\n",
        "w, b = initialize_with_zeros(dim)\n",
        "print (\"w = \" + str(w))\n",
        "print (\"b = \" + str(b))"
      ],
      "execution_count": 0,
      "outputs": [
        {
          "output_type": "stream",
          "text": [
            "w = [[0.]\n",
            " [0.]]\n",
            "b = 0\n"
          ],
          "name": "stdout"
        }
      ]
    },
    {
      "cell_type": "markdown",
      "metadata": {
        "id": "54dh9wUnthfW",
        "colab_type": "text"
      },
      "source": [
        "Forward and Backward propagation"
      ]
    },
    {
      "cell_type": "code",
      "metadata": {
        "id": "Yn-y8DAstfkc",
        "colab_type": "code",
        "colab": {}
      },
      "source": [
        "#propagate\n",
        "\n",
        "def propagate(w, b, X, Y):\n",
        "    \"\"\"\n",
        "    Implement the cost function and its gradient for the propagation explained above\n",
        "\n",
        "    Arguments:\n",
        "    w -- weights, a numpy array of size (num_px * num_px * 3, 1)\n",
        "    b -- bias, a scalar\n",
        "    X -- data of size (num_px * num_px * 3, number of examples)\n",
        "    Y -- true \"label\" vector (containing 0 if non-cat, 1 if cat) of size (1, number of examples)\n",
        "\n",
        "    Return:\n",
        "    cost -- negative log-likelihood cost for logistic regression\n",
        "    dw -- gradient of the loss with respect to w, thus same shape as w\n",
        "    db -- gradient of the loss with respect to b, thus same shape as b\n",
        "    \n",
        "    Tips:\n",
        "    - Write your code step by step for the propagation. np.log(), np.dot()\n",
        "    \"\"\"\n",
        "    \n",
        "    m = X.shape[1]\n",
        "    \n",
        "    # FORWARD PROPAGATION (FROM X TO COST)\n",
        "    ### START CODE HERE ### (≈ 2 lines of code)\n",
        "    A = sigmoid(np.dot(w.T, X) + b)                                 \n",
        "    cost_init = np.multiply(Y, np.log(A)) + np.multiply((1 - Y), np.log(1 - A))\n",
        "    cost = -np.sum(cost_init, axis=1, keepdims=True) / m \n",
        "    ### END CODE HERE ###\n",
        "    \n",
        "    # BACKWARD PROPAGATION (TO FIND GRAD)\n",
        "    ### START CODE HERE ### (≈ 2 lines of code)\n",
        "    dw = np.dot(X, (A - Y).T) / m\n",
        "    db = np.sum((A - Y), axis=1, keepdims=True) / m\n",
        "    ### END CODE HERE ###\n",
        "\n",
        "    assert(dw.shape == w.shape)\n",
        "    assert(db.dtype == float)\n",
        "    cost = np.squeeze(cost)\n",
        "    assert(cost.shape == ())\n",
        "    \n",
        "    grads = {\"dw\": dw,\n",
        "             \"db\": db}\n",
        "    \n",
        "    return grads, cost"
      ],
      "execution_count": 0,
      "outputs": []
    },
    {
      "cell_type": "code",
      "metadata": {
        "id": "D4P9PeSWtkVO",
        "colab_type": "code",
        "outputId": "e35524f2-4058-44a5-acc5-05090a71969e",
        "colab": {
          "base_uri": "https://localhost:8080/",
          "height": 86
        }
      },
      "source": [
        "w, b, X, Y = np.array([[1.],[2.]]), 2., np.array([[1.,2.,-1.],[3.,4.,-3.2]]), np.array([[1,0,1]])\n",
        "grads, cost = propagate(w, b, X, Y)\n",
        "print (\"dw = \" + str(grads[\"dw\"]))\n",
        "print (\"db = \" + str(grads[\"db\"]))\n",
        "print (\"cost = \" + str(cost))"
      ],
      "execution_count": 0,
      "outputs": [
        {
          "output_type": "stream",
          "text": [
            "dw = [[0.99845601]\n",
            " [2.39507239]]\n",
            "db = [[0.00145558]]\n",
            "cost = 5.801545319394553\n"
          ],
          "name": "stdout"
        }
      ]
    },
    {
      "cell_type": "markdown",
      "metadata": {
        "id": "q6ET7SZGtqTZ",
        "colab_type": "text"
      },
      "source": [
        "Optimization"
      ]
    },
    {
      "cell_type": "code",
      "metadata": {
        "id": "oaya_myVtl5K",
        "colab_type": "code",
        "colab": {}
      },
      "source": [
        "#optimize\n",
        "\n",
        "def optimize(w, b, X, Y, num_iterations, learning_rate, print_cost = False):\n",
        "    \"\"\"\n",
        "    This function optimizes w and b by running a gradient descent algorithm\n",
        "    \n",
        "    Arguments:\n",
        "    w -- weights, a numpy array of size (num_px * num_px * 3, 1)\n",
        "    b -- bias, a scalar\n",
        "    X -- data of shape (num_px * num_px * 3, number of examples)\n",
        "    Y -- true \"label\" vector (containing 0 if non-cat, 1 if cat), of shape (1, number of examples)\n",
        "    num_iterations -- number of iterations of the optimization loop\n",
        "    learning_rate -- learning rate of the gradient descent update rule\n",
        "    print_cost -- True to print the loss every 100 steps\n",
        "    \n",
        "    Returns:\n",
        "    params -- dictionary containing the weights w and bias b\n",
        "    grads -- dictionary containing the gradients of the weights and bias with respect to the cost function\n",
        "    costs -- list of all the costs computed during the optimization, this will be used to plot the learning curve.\n",
        "    \n",
        "    Tips:\n",
        "    You basically need to write down two steps and iterate through them:\n",
        "        1) Calculate the cost and the gradient for the current parameters. Use propagate().\n",
        "        2) Update the parameters using gradient descent rule for w and b.\n",
        "    \"\"\"\n",
        "    \n",
        "    costs = []\n",
        "    \n",
        "    for i in range(num_iterations):\n",
        "        \n",
        "        \n",
        "        # Cost and gradient calculation (≈ 1-4 lines of code)\n",
        "        ### START CODE HERE ### \n",
        "        gradients, cost = propagate(w, b, X, Y)\n",
        "        ### END CODE HERE ###\n",
        "        \n",
        "        # Retrieve derivatives from grads\n",
        "        dw = gradients[\"dw\"]\n",
        "        db = gradients[\"db\"]\n",
        "        \n",
        "        # update rule (≈ 2 lines of code)\n",
        "        ### START CODE HERE ###\n",
        "        w = w - (learning_rate * dw)\n",
        "        b = b - (learning_rate * db)\n",
        "        ### END CODE HERE ###\n",
        "        \n",
        "        # Record the costs\n",
        "        if i % 100 == 0:\n",
        "            costs.append(cost)\n",
        "        \n",
        "        # Print the cost every 100 training iterations\n",
        "        if print_cost and i % 100 == 0:\n",
        "            print (\"Cost after iteration %i: %f\" %(i, cost))\n",
        "    \n",
        "    params = {\"w\": w,\n",
        "              \"b\": b}\n",
        "    \n",
        "    grads = {\"dw\": dw,\n",
        "             \"db\": db}\n",
        "    \n",
        "    return params, grads, costs"
      ],
      "execution_count": 0,
      "outputs": []
    },
    {
      "cell_type": "code",
      "metadata": {
        "id": "ToKXcILYtt9I",
        "colab_type": "code",
        "outputId": "67b80d84-b76a-4450-b600-a011eef9315f",
        "colab": {
          "base_uri": "https://localhost:8080/",
          "height": 121
        }
      },
      "source": [
        "params, grads, costs = optimize(w, b, X, Y, num_iterations= 100, learning_rate = 0.009, print_cost = False)\n",
        "\n",
        "print (\"w = \" + str(params[\"w\"]))\n",
        "print (\"b = \" + str(params[\"b\"]))\n",
        "print (\"dw = \" + str(grads[\"dw\"]))\n",
        "print (\"db = \" + str(grads[\"db\"]))"
      ],
      "execution_count": 0,
      "outputs": [
        {
          "output_type": "stream",
          "text": [
            "w = [[0.19033591]\n",
            " [0.12259159]]\n",
            "b = [[1.92535983]]\n",
            "dw = [[0.67752042]\n",
            " [1.41625495]]\n",
            "db = [[0.2191945]]\n"
          ],
          "name": "stdout"
        }
      ]
    },
    {
      "cell_type": "markdown",
      "metadata": {
        "id": "8sKBkxNOtznq",
        "colab_type": "text"
      },
      "source": [
        "Predict\n"
      ]
    },
    {
      "cell_type": "code",
      "metadata": {
        "id": "NKxQpbkytvq5",
        "colab_type": "code",
        "colab": {}
      },
      "source": [
        "#predict\n",
        "\n",
        "def predict(w, b, X):\n",
        "    '''\n",
        "    Predict whether the label is 0 or 1 using learned logistic regression parameters (w, b)\n",
        "    \n",
        "    Arguments:\n",
        "    w -- weights, a numpy array of size (num_px * num_px * 3, 1)\n",
        "    b -- bias, a scalar\n",
        "    X -- data of size (num_px * num_px * 3, number of examples)\n",
        "    \n",
        "    Returns:\n",
        "    Y_prediction -- a numpy array (vector) containing all predictions (0/1) for the examples in X\n",
        "    '''\n",
        "    \n",
        "    m = X.shape[1]\n",
        "    Y_prediction = np.zeros((1,m))\n",
        "    w = w.reshape(X.shape[0], 1)\n",
        "    \n",
        "    # Compute vector \"A\" predicting the probabilities of a cat being present in the picture\n",
        "    ### START CODE HERE ### (≈ 1 line of code)\n",
        "    A = sigmoid(np.dot(w.T, X) + b)\n",
        "    ### END CODE HERE ###\n",
        "    \n",
        "    for i in range(A.shape[1]):\n",
        "        \n",
        "        # Convert probabilities A[0,i] to actual predictions p[0,i]\n",
        "        ### START CODE HERE ### (≈ 4 lines of code)\n",
        "        if A[0][i] > 0.5:\n",
        "            Y_prediction[0][i] = 1\n",
        "        else:\n",
        "            Y_prediction[0][i] = 0\n",
        "        pass\n",
        "        ### END CODE HERE ###\n",
        "    \n",
        "    assert(Y_prediction.shape == (1, m))\n",
        "    \n",
        "    return Y_prediction"
      ],
      "execution_count": 0,
      "outputs": []
    },
    {
      "cell_type": "code",
      "metadata": {
        "id": "boQ5iNTst0w5",
        "colab_type": "code",
        "outputId": "63c04f1f-0f16-4dd0-b513-ce009ac37243",
        "colab": {
          "base_uri": "https://localhost:8080/",
          "height": 34
        }
      },
      "source": [
        "w = np.array([[0.1124579],[0.23106775]])\n",
        "b = -0.3\n",
        "X = np.array([[1.,-1.1,-3.2],[1.2,2.,0.1]])\n",
        "print (\"predictions = \" + str(predict(w, b, X)))"
      ],
      "execution_count": 0,
      "outputs": [
        {
          "output_type": "stream",
          "text": [
            "predictions = [[1. 1. 0.]]\n"
          ],
          "name": "stdout"
        }
      ]
    },
    {
      "cell_type": "markdown",
      "metadata": {
        "id": "kv8Uj7UGt6ry",
        "colab_type": "text"
      },
      "source": [
        " Merge all functions into a model"
      ]
    },
    {
      "cell_type": "code",
      "metadata": {
        "id": "8bDuqjP5t3Vq",
        "colab_type": "code",
        "colab": {}
      },
      "source": [
        "#model\n",
        "\n",
        "def model(X_train, Y_train, X_test, Y_test, num_iterations = 2000, learning_rate = 0.5, print_cost = False):\n",
        "    \"\"\"\n",
        "    Builds the logistic regression model by calling the function you've implemented previously\n",
        "    \n",
        "    Arguments:\n",
        "    X_train -- training set represented by a numpy array of shape (num_px * num_px * 3, m_train)\n",
        "    Y_train -- training labels represented by a numpy array (vector) of shape (1, m_train)\n",
        "    X_test -- test set represented by a numpy array of shape (num_px * num_px * 3, m_test)\n",
        "    Y_test -- test labels represented by a numpy array (vector) of shape (1, m_test)\n",
        "    num_iterations -- hyperparameter representing the number of iterations to optimize the parameters\n",
        "    learning_rate -- hyperparameter representing the learning rate used in the update rule of optimize()\n",
        "    print_cost -- Set to true to print the cost every 100 iterations\n",
        "    \n",
        "    Returns:\n",
        "    d -- dictionary containing information about the model.\n",
        "    \"\"\"\n",
        "    \n",
        "    ### START CODE HERE ###\n",
        "    \n",
        "    # initialize parameters with zeros (≈ 1 line of code)\n",
        "    w, b = np.zeros((X_train.shape[0], 1)), 0\n",
        "\n",
        "    # Gradient descent (≈ 1 line of code)\n",
        "    parameters, grads, costs = optimize(w, b, X_train, Y_train, num_iterations, learning_rate, print_cost)\n",
        "    \n",
        "    # Retrieve parameters w and b from dictionary \"parameters\"\n",
        "    w = parameters[\"w\"]\n",
        "    b = parameters[\"b\"]\n",
        "    \n",
        "    # Predict test/train set examples (≈ 2 lines of code)\n",
        "    Y_prediction_test = predict(w, b, X_test)\n",
        "    Y_prediction_train = predict(w, b, X_train)\n",
        "\n",
        "    ### END CODE HERE ###\n",
        "\n",
        "    # Print train/test Errors\n",
        "    print(\"train accuracy: {} %\".format(100 - np.mean(np.abs(Y_prediction_train - Y_train)) * 100))\n",
        "    print(\"test accuracy: {} %\".format(100 - np.mean(np.abs(Y_prediction_test - Y_test)) * 100))\n",
        "\n",
        "    \n",
        "    d = {\"costs\": costs,\n",
        "         \"Y_prediction_test\": Y_prediction_test, \n",
        "         \"Y_prediction_train\" : Y_prediction_train, \n",
        "         \"w\" : w, \n",
        "         \"b\" : b,\n",
        "         \"learning_rate\" : learning_rate,\n",
        "         \"num_iterations\": num_iterations}\n",
        "    \n",
        "    return d"
      ],
      "execution_count": 0,
      "outputs": []
    },
    {
      "cell_type": "markdown",
      "metadata": {
        "id": "cSIg0dhTt_xN",
        "colab_type": "text"
      },
      "source": [
        "Training"
      ]
    },
    {
      "cell_type": "code",
      "metadata": {
        "id": "69x0vRm2t9dD",
        "colab_type": "code",
        "outputId": "581e68c9-6ff9-48c3-ba8c-2d487f49ddfc",
        "colab": {
          "base_uri": "https://localhost:8080/",
          "height": 1000
        }
      },
      "source": [
        "d = model(train_set_x, train_set_y, test_set_x, test_set_y, num_iterations = 20000, learning_rate = 0.02, print_cost = True)"
      ],
      "execution_count": 0,
      "outputs": [
        {
          "output_type": "stream",
          "text": [
            "Cost after iteration 0: 0.693147\n",
            "Cost after iteration 100: 1.669872\n",
            "Cost after iteration 200: 0.390712\n",
            "Cost after iteration 300: 0.224091\n",
            "Cost after iteration 400: 2.443095\n",
            "Cost after iteration 500: 1.412552\n",
            "Cost after iteration 600: 0.119378\n",
            "Cost after iteration 700: 0.076192\n",
            "Cost after iteration 800: 0.060833\n",
            "Cost after iteration 900: 0.052898\n",
            "Cost after iteration 1000: 0.047699\n",
            "Cost after iteration 1100: 0.043842\n",
            "Cost after iteration 1200: 0.040779\n",
            "Cost after iteration 1300: 0.038243\n",
            "Cost after iteration 1400: 0.036085\n",
            "Cost after iteration 1500: 0.034212\n",
            "Cost after iteration 1600: 0.032561\n",
            "Cost after iteration 1700: 0.031089\n",
            "Cost after iteration 1800: 0.029764\n",
            "Cost after iteration 1900: 0.028562\n",
            "Cost after iteration 2000: 0.027464\n",
            "Cost after iteration 2100: 0.026456\n",
            "Cost after iteration 2200: 0.025526\n",
            "Cost after iteration 2300: 0.024665\n",
            "Cost after iteration 2400: 0.023863\n",
            "Cost after iteration 2500: 0.023116\n",
            "Cost after iteration 2600: 0.022417\n",
            "Cost after iteration 2700: 0.021761\n",
            "Cost after iteration 2800: 0.021144\n",
            "Cost after iteration 2900: 0.020563\n",
            "Cost after iteration 3000: 0.020014\n",
            "Cost after iteration 3100: 0.019495\n",
            "Cost after iteration 3200: 0.019003\n",
            "Cost after iteration 3300: 0.018536\n",
            "Cost after iteration 3400: 0.018092\n",
            "Cost after iteration 3500: 0.017670\n",
            "Cost after iteration 3600: 0.017267\n",
            "Cost after iteration 3700: 0.016883\n",
            "Cost after iteration 3800: 0.016515\n",
            "Cost after iteration 3900: 0.016164\n",
            "Cost after iteration 4000: 0.015828\n",
            "Cost after iteration 4100: 0.015506\n",
            "Cost after iteration 4200: 0.015196\n",
            "Cost after iteration 4300: 0.014899\n",
            "Cost after iteration 4400: 0.014614\n",
            "Cost after iteration 4500: 0.014340\n",
            "Cost after iteration 4600: 0.014075\n",
            "Cost after iteration 4700: 0.013821\n",
            "Cost after iteration 4800: 0.013575\n",
            "Cost after iteration 4900: 0.013339\n",
            "Cost after iteration 5000: 0.013110\n",
            "Cost after iteration 5100: 0.012889\n",
            "Cost after iteration 5200: 0.012676\n",
            "Cost after iteration 5300: 0.012470\n",
            "Cost after iteration 5400: 0.012270\n",
            "Cost after iteration 5500: 0.012077\n",
            "Cost after iteration 5600: 0.011889\n",
            "Cost after iteration 5700: 0.011708\n",
            "Cost after iteration 5800: 0.011532\n",
            "Cost after iteration 5900: 0.011361\n",
            "Cost after iteration 6000: 0.011195\n",
            "Cost after iteration 6100: 0.011034\n",
            "Cost after iteration 6200: 0.010878\n",
            "Cost after iteration 6300: 0.010726\n",
            "Cost after iteration 6400: 0.010578\n",
            "Cost after iteration 6500: 0.010434\n",
            "Cost after iteration 6600: 0.010295\n",
            "Cost after iteration 6700: 0.010158\n",
            "Cost after iteration 6800: 0.010026\n",
            "Cost after iteration 6900: 0.009897\n",
            "Cost after iteration 7000: 0.009771\n",
            "Cost after iteration 7100: 0.009648\n",
            "Cost after iteration 7200: 0.009528\n",
            "Cost after iteration 7300: 0.009412\n",
            "Cost after iteration 7400: 0.009298\n",
            "Cost after iteration 7500: 0.009187\n",
            "Cost after iteration 7600: 0.009078\n",
            "Cost after iteration 7700: 0.008972\n",
            "Cost after iteration 7800: 0.008869\n",
            "Cost after iteration 7900: 0.008767\n",
            "Cost after iteration 8000: 0.008669\n",
            "Cost after iteration 8100: 0.008572\n",
            "Cost after iteration 8200: 0.008477\n",
            "Cost after iteration 8300: 0.008385\n",
            "Cost after iteration 8400: 0.008294\n",
            "Cost after iteration 8500: 0.008206\n",
            "Cost after iteration 8600: 0.008119\n",
            "Cost after iteration 8700: 0.008034\n",
            "Cost after iteration 8800: 0.007951\n",
            "Cost after iteration 8900: 0.007870\n",
            "Cost after iteration 9000: 0.007790\n",
            "Cost after iteration 9100: 0.007712\n",
            "Cost after iteration 9200: 0.007635\n",
            "Cost after iteration 9300: 0.007560\n",
            "Cost after iteration 9400: 0.007487\n",
            "Cost after iteration 9500: 0.007415\n",
            "Cost after iteration 9600: 0.007344\n",
            "Cost after iteration 9700: 0.007274\n",
            "Cost after iteration 9800: 0.007206\n",
            "Cost after iteration 9900: 0.007139\n",
            "Cost after iteration 10000: 0.007074\n",
            "Cost after iteration 10100: 0.007009\n",
            "Cost after iteration 10200: 0.006946\n",
            "Cost after iteration 10300: 0.006884\n",
            "Cost after iteration 10400: 0.006822\n",
            "Cost after iteration 10500: 0.006762\n",
            "Cost after iteration 10600: 0.006703\n",
            "Cost after iteration 10700: 0.006646\n",
            "Cost after iteration 10800: 0.006589\n",
            "Cost after iteration 10900: 0.006533\n",
            "Cost after iteration 11000: 0.006478\n",
            "Cost after iteration 11100: 0.006423\n",
            "Cost after iteration 11200: 0.006370\n",
            "Cost after iteration 11300: 0.006318\n",
            "Cost after iteration 11400: 0.006266\n",
            "Cost after iteration 11500: 0.006216\n",
            "Cost after iteration 11600: 0.006166\n",
            "Cost after iteration 11700: 0.006117\n",
            "Cost after iteration 11800: 0.006069\n",
            "Cost after iteration 11900: 0.006021\n",
            "Cost after iteration 12000: 0.005974\n",
            "Cost after iteration 12100: 0.005928\n",
            "Cost after iteration 12200: 0.005883\n",
            "Cost after iteration 12300: 0.005838\n",
            "Cost after iteration 12400: 0.005794\n",
            "Cost after iteration 12500: 0.005751\n",
            "Cost after iteration 12600: 0.005708\n",
            "Cost after iteration 12700: 0.005666\n",
            "Cost after iteration 12800: 0.005625\n",
            "Cost after iteration 12900: 0.005584\n",
            "Cost after iteration 13000: 0.005543\n",
            "Cost after iteration 13100: 0.005504\n",
            "Cost after iteration 13200: 0.005465\n",
            "Cost after iteration 13300: 0.005426\n",
            "Cost after iteration 13400: 0.005388\n",
            "Cost after iteration 13500: 0.005351\n",
            "Cost after iteration 13600: 0.005314\n",
            "Cost after iteration 13700: 0.005277\n",
            "Cost after iteration 13800: 0.005241\n",
            "Cost after iteration 13900: 0.005206\n",
            "Cost after iteration 14000: 0.005171\n",
            "Cost after iteration 14100: 0.005136\n",
            "Cost after iteration 14200: 0.005102\n",
            "Cost after iteration 14300: 0.005068\n",
            "Cost after iteration 14400: 0.005035\n",
            "Cost after iteration 14500: 0.005002\n",
            "Cost after iteration 14600: 0.004970\n",
            "Cost after iteration 14700: 0.004938\n",
            "Cost after iteration 14800: 0.004907\n",
            "Cost after iteration 14900: 0.004875\n",
            "Cost after iteration 15000: 0.004845\n",
            "Cost after iteration 15100: 0.004814\n",
            "Cost after iteration 15200: 0.004784\n",
            "Cost after iteration 15300: 0.004755\n",
            "Cost after iteration 15400: 0.004726\n",
            "Cost after iteration 15500: 0.004697\n",
            "Cost after iteration 15600: 0.004668\n",
            "Cost after iteration 15700: 0.004640\n",
            "Cost after iteration 15800: 0.004612\n",
            "Cost after iteration 15900: 0.004585\n",
            "Cost after iteration 16000: 0.004557\n",
            "Cost after iteration 16100: 0.004531\n",
            "Cost after iteration 16200: 0.004504\n",
            "Cost after iteration 16300: 0.004478\n",
            "Cost after iteration 16400: 0.004452\n",
            "Cost after iteration 16500: 0.004426\n",
            "Cost after iteration 16600: 0.004401\n",
            "Cost after iteration 16700: 0.004376\n",
            "Cost after iteration 16800: 0.004351\n",
            "Cost after iteration 16900: 0.004327\n",
            "Cost after iteration 17000: 0.004302\n",
            "Cost after iteration 17100: 0.004278\n",
            "Cost after iteration 17200: 0.004255\n",
            "Cost after iteration 17300: 0.004231\n",
            "Cost after iteration 17400: 0.004208\n",
            "Cost after iteration 17500: 0.004185\n",
            "Cost after iteration 17600: 0.004162\n",
            "Cost after iteration 17700: 0.004140\n",
            "Cost after iteration 17800: 0.004118\n",
            "Cost after iteration 17900: 0.004096\n",
            "Cost after iteration 18000: 0.004074\n",
            "Cost after iteration 18100: 0.004053\n",
            "Cost after iteration 18200: 0.004031\n",
            "Cost after iteration 18300: 0.004010\n",
            "Cost after iteration 18400: 0.003990\n",
            "Cost after iteration 18500: 0.003969\n",
            "Cost after iteration 18600: 0.003949\n",
            "Cost after iteration 18700: 0.003928\n",
            "Cost after iteration 18800: 0.003908\n",
            "Cost after iteration 18900: 0.003889\n",
            "Cost after iteration 19000: 0.003869\n",
            "Cost after iteration 19100: 0.003850\n",
            "Cost after iteration 19200: 0.003830\n",
            "Cost after iteration 19300: 0.003811\n",
            "Cost after iteration 19400: 0.003793\n",
            "Cost after iteration 19500: 0.003774\n",
            "Cost after iteration 19600: 0.003756\n",
            "Cost after iteration 19700: 0.003737\n",
            "Cost after iteration 19800: 0.003719\n",
            "Cost after iteration 19900: 0.003701\n",
            "train accuracy: 100.0 %\n",
            "test accuracy: 72.0 %\n"
          ],
          "name": "stdout"
        }
      ]
    },
    {
      "cell_type": "markdown",
      "metadata": {
        "id": "mCFsld2UuDg0",
        "colab_type": "text"
      },
      "source": [
        "Visualization of Learning "
      ]
    },
    {
      "cell_type": "code",
      "metadata": {
        "id": "f1LViUEHuAcK",
        "colab_type": "code",
        "outputId": "5c430494-7055-4464-d165-e691aff00058",
        "colab": {
          "base_uri": "https://localhost:8080/",
          "height": 294
        }
      },
      "source": [
        "# Plot learning curve (with costs)\n",
        "costs = np.squeeze(d['costs'])\n",
        "plt.plot(costs)\n",
        "plt.ylabel('cost')\n",
        "plt.xlabel('iterations (per hundreds)')\n",
        "plt.title(\"Learning rate =\" + str(d[\"learning_rate\"]))\n",
        "plt.show()"
      ],
      "execution_count": 0,
      "outputs": [
        {
          "output_type": "display_data",
          "data": {
            "image/png": "[encoded data removed]",
            "text/plain": [
              "<Figure size 432x288 with 1 Axes>"
            ]
          },
          "metadata": {
            "tags": [],
            "needs_background": "light"
          }
        }
      ]
    },
    {
      "cell_type": "code",
      "metadata": {
        "id": "1zg6Ie6yuFnM",
        "colab_type": "code",
        "colab": {}
      },
      "source": [
        ""
      ],
      "execution_count": 0,
      "outputs": []
    }
  ]
}