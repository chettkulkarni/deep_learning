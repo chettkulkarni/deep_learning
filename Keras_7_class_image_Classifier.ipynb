{
  "nbformat": 4,
  "nbformat_minor": 0,
  "metadata": {
    "colab": {
      "name": "Keras 7 class image Classifier.ipynb",
      "provenance": [],
      "collapsed_sections": [],
      "authorship_tag": "ABX9TyM55ZXp1MRssiKCwswd2jFp",
      "include_colab_link": true
    },
    "kernelspec": {
      "name": "python3",
      "display_name": "Python 3"
    },
    "accelerator": "TPU"
  },
  "cells": [
    {
      "cell_type": "markdown",
      "metadata": {
        "id": "view-in-github",
        "colab_type": "text"
      },
      "source": [
        "<a href=\"https://colab.research.google.com/github/chettkulkarni/deep_learning/blob/master/Keras_7_class_image_Classifier.ipynb\" target=\"_parent\"><img src=\"https://colab.research.google.com/assets/colab-badge.svg\" alt=\"Open In Colab\"/></a>"
      ]
    },
    {
      "cell_type": "code",
      "metadata": {
        "id": "cKrYRmr3zfyW",
        "colab_type": "code",
        "outputId": "c7cc9c1c-8afa-419f-88a0-84dc30cb24d5",
        "colab": {
          "base_uri": "https://localhost:8080/",
          "height": 34
        }
      },
      "source": [
        "import pandas\n",
        "from fastai.vision import *\n",
        "from keras.preprocessing import image\n",
        "import urllib.request\n",
        "from keras.preprocessing.image import *\n",
        "import keras\n",
        "from keras.layers import *\n",
        "\n",
        "import random\n",
        "random.seed(1)\n",
        "\n",
        "import pydot\n",
        "import keras\n",
        "import tensorflow as tf\n",
        "tf.random.set_seed(1)"
      ],
      "execution_count": 0,
      "outputs": [
        {
          "output_type": "stream",
          "text": [
            "Using TensorFlow backend.\n"
          ],
          "name": "stderr"
        }
      ]
    },
    {
      "cell_type": "code",
      "metadata": {
        "id": "fbomeLbCLOMY",
        "colab_type": "code",
        "colab": {}
      },
      "source": [
        "def downloadImagesCustom(types,folder_name,file_name,url):\n",
        "  print(types,folder_name,file_name,url)\n",
        "  path = Path('data')\n",
        "  dest = path/types/folder_name\n",
        "  dest.mkdir(parents=True, exist_ok=True)\n",
        "  csv=path/types/folder_name/file_name\n",
        "  urllib.request.urlretrieve(url, csv)\n",
        "  destination=path/types/folder_name\n",
        "  download_images(csv, destination, max_pics=200,max_workers=0)\n"
      ],
      "execution_count": 0,
      "outputs": []
    },
    {
      "cell_type": "code",
      "metadata": {
        "id": "XVT1XnIiMRpx",
        "colab_type": "code",
        "outputId": "da37fabc-c8c2-41f8-aee5-baeda6414a50",
        "colab": {
          "base_uri": "https://localhost:8080/",
          "height": 1000
        }
      },
      "source": [
        "dic={}\n",
        "\n",
        "dic[0]=('train','nature','train_nature.csv','https://raw.githubusercontent.com/chettkulkarni/deep_learning/master/dataset/train_nature.csv')\n",
        "dic[1]=('test','nature','test_nature.csv','https://raw.githubusercontent.com/chettkulkarni/deep_learning/master/dataset/test_nature.csv')\n",
        "\n",
        "dic[2]=('train','cats','train_cats.csv','https://raw.githubusercontent.com/chettkulkarni/deep_learning/master/dataset/train_cats.csv')\n",
        "dic[3]=('test','cats','test_cats.csv','https://raw.githubusercontent.com/chettkulkarni/deep_learning/master/dataset/test_cats.csv')\n",
        "\n",
        "\n",
        "dic[4]=('train','wolf','train_wolf.csv','https://raw.githubusercontent.com/chettkulkarni/deep_learning/master/dataset/train_wolf.csv')\n",
        "dic[5]=('test','wolf','test_wolf.csv','https://raw.githubusercontent.com/chettkulkarni/deep_learning/master/dataset/test_wolf.csv')\n",
        "\n",
        "\n",
        "dic[6]=('train','krishna','train_krishna.csv','https://raw.githubusercontent.com/chettkulkarni/deep_learning/master/dataset/train_krishna.csv')\n",
        "dic[7]=('test','krishna','test_krishna.csv','https://raw.githubusercontent.com/chettkulkarni/deep_learning/master/dataset/test_krishna.csv')\n",
        "\n",
        "\n",
        "\n",
        "dic[8]=('train','santa_claus','train_santa_claus.csv','https://raw.githubusercontent.com/chettkulkarni/deep_learning/master/dataset/train_santa_claus.csv')\n",
        "dic[9]=('test','santa_claus','test_santa_claus.csv','https://raw.githubusercontent.com/chettkulkarni/deep_learning/master/dataset/test_santa_claus.csv')\n",
        "\n",
        "\n",
        "\n",
        "dic[10]=('train','cars','train_cars.csv','https://raw.githubusercontent.com/chettkulkarni/deep_learning/master/dataset/train_cars.csv')\n",
        "dic[11]=('test','cars','test_cars.csv','https://raw.githubusercontent.com/chettkulkarni/deep_learning/master/dataset/test_cars.csv')\n",
        "\n",
        "\n",
        "dic[12]=('train','food','train_food.csv','https://raw.githubusercontent.com/chettkulkarni/deep_learning/master/dataset/train_food.csv')\n",
        "dic[13]=('test','food','test_food.csv','https://raw.githubusercontent.com/chettkulkarni/deep_learning/master/dataset/test_food.csv')\n",
        "\n",
        "\n",
        "# dic[13]=('train','cats','train_cats.csv','https://raw.githubusercontent.com/chettkulkarni/deep_learning/master/dataset/train_cats.csv')\n",
        "# dic[14]=('test','cats','test_cats.csv','https://raw.githubusercontent.com/chettkulkarni/deep_learning/master/dataset/test_cats.csv')\n",
        "\n",
        "\n",
        "for i,j in dic.items():\n",
        "  downloadImagesCustom(j[0],j[1],j[2],j[3])"
      ],
      "execution_count": 0,
      "outputs": [
        {
          "output_type": "stream",
          "text": [
            "train nature train_nature.csv https://raw.githubusercontent.com/chettkulkarni/deep_learning/master/dataset/train_nature.csv\n"
          ],
          "name": "stdout"
        },
        {
          "output_type": "display_data",
          "data": {
            "text/html": [
              ""
            ],
            "text/plain": [
              "<IPython.core.display.HTML object>"
            ]
          },
          "metadata": {
            "tags": []
          }
        },
        {
          "output_type": "stream",
          "text": [
            "test nature test_nature.csv https://raw.githubusercontent.com/chettkulkarni/deep_learning/master/dataset/test_nature.csv\n"
          ],
          "name": "stdout"
        },
        {
          "output_type": "display_data",
          "data": {
            "text/html": [
              ""
            ],
            "text/plain": [
              "<IPython.core.display.HTML object>"
            ]
          },
          "metadata": {
            "tags": []
          }
        },
        {
          "output_type": "stream",
          "text": [
            "Error ﻿https://encrypted-tbn0.gstatic.com/images?q=tbn%3AANd9GcTH8Mr7uMmAQvzJgbckguYbOonaNHznrzNm3cghn9yRt8O8d19H&usqp=CAU No connection adapters were found for '﻿https://encrypted-tbn0.gstatic.com/images?q=tbn%3AANd9GcTH8Mr7uMmAQvzJgbckguYbOonaNHznrzNm3cghn9yRt8O8d19H&usqp=CAU'\n",
            "train cats train_cats.csv https://raw.githubusercontent.com/chettkulkarni/deep_learning/master/dataset/train_cats.csv\n"
          ],
          "name": "stdout"
        },
        {
          "output_type": "display_data",
          "data": {
            "text/html": [
              ""
            ],
            "text/plain": [
              "<IPython.core.display.HTML object>"
            ]
          },
          "metadata": {
            "tags": []
          }
        },
        {
          "output_type": "stream",
          "text": [
            "test cats test_cats.csv https://raw.githubusercontent.com/chettkulkarni/deep_learning/master/dataset/test_cats.csv\n"
          ],
          "name": "stdout"
        },
        {
          "output_type": "display_data",
          "data": {
            "text/html": [
              ""
            ],
            "text/plain": [
              "<IPython.core.display.HTML object>"
            ]
          },
          "metadata": {
            "tags": []
          }
        },
        {
          "output_type": "stream",
          "text": [
            "Error ﻿https://encrypted-tbn0.gstatic.com/images?q=tbn%3AANd9GcTajk2u8_SmE7mIAXSolf0naevWvVpui_BNYaDzzww6fxh_B7kp&usqp=CAU No connection adapters were found for '﻿https://encrypted-tbn0.gstatic.com/images?q=tbn%3AANd9GcTajk2u8_SmE7mIAXSolf0naevWvVpui_BNYaDzzww6fxh_B7kp&usqp=CAU'\n",
            "train wolf train_wolf.csv https://raw.githubusercontent.com/chettkulkarni/deep_learning/master/dataset/train_wolf.csv\n"
          ],
          "name": "stdout"
        },
        {
          "output_type": "display_data",
          "data": {
            "text/html": [
              ""
            ],
            "text/plain": [
              "<IPython.core.display.HTML object>"
            ]
          },
          "metadata": {
            "tags": []
          }
        },
        {
          "output_type": "stream",
          "text": [
            "Error  Invalid URL '': No schema supplied. Perhaps you meant http://?\n",
            "Error  Invalid URL '': No schema supplied. Perhaps you meant http://?\n",
            "Error  Invalid URL '': No schema supplied. Perhaps you meant http://?\n",
            "Error  Invalid URL '': No schema supplied. Perhaps you meant http://?\n",
            "Error  Invalid URL '': No schema supplied. Perhaps you meant http://?\n",
            "Error  Invalid URL '': No schema supplied. Perhaps you meant http://?\n",
            "Error  Invalid URL '': No schema supplied. Perhaps you meant http://?\n",
            "Error  Invalid URL '': No schema supplied. Perhaps you meant http://?\n",
            "Error  Invalid URL '': No schema supplied. Perhaps you meant http://?\n",
            "Error  Invalid URL '': No schema supplied. Perhaps you meant http://?\n",
            "Error  Invalid URL '': No schema supplied. Perhaps you meant http://?\n",
            "Error  Invalid URL '': No schema supplied. Perhaps you meant http://?\n",
            "Error  Invalid URL '': No schema supplied. Perhaps you meant http://?\n",
            "Error  Invalid URL '': No schema supplied. Perhaps you meant http://?\n",
            "Error  Invalid URL '': No schema supplied. Perhaps you meant http://?\n",
            "Error  Invalid URL '': No schema supplied. Perhaps you meant http://?\n",
            "Error  Invalid URL '': No schema supplied. Perhaps you meant http://?\n",
            "Error  Invalid URL '': No schema supplied. Perhaps you meant http://?\n",
            "Error  Invalid URL '': No schema supplied. Perhaps you meant http://?\n",
            "Error  Invalid URL '': No schema supplied. Perhaps you meant http://?\n",
            "Error  Invalid URL '': No schema supplied. Perhaps you meant http://?\n",
            "Error  Invalid URL '': No schema supplied. Perhaps you meant http://?\n",
            "Error  Invalid URL '': No schema supplied. Perhaps you meant http://?\n",
            "Error  Invalid URL '': No schema supplied. Perhaps you meant http://?\n",
            "Error  Invalid URL '': No schema supplied. Perhaps you meant http://?\n",
            "Error  Invalid URL '': No schema supplied. Perhaps you meant http://?\n",
            "Error  Invalid URL '': No schema supplied. Perhaps you meant http://?\n",
            "Error  Invalid URL '': No schema supplied. Perhaps you meant http://?\n",
            "Error  Invalid URL '': No schema supplied. Perhaps you meant http://?\n",
            "Error  Invalid URL '': No schema supplied. Perhaps you meant http://?\n",
            "Error  Invalid URL '': No schema supplied. Perhaps you meant http://?\n",
            "Error  Invalid URL '': No schema supplied. Perhaps you meant http://?\n",
            "Error  Invalid URL '': No schema supplied. Perhaps you meant http://?\n",
            "Error  Invalid URL '': No schema supplied. Perhaps you meant http://?\n",
            "Error  Invalid URL '': No schema supplied. Perhaps you meant http://?\n",
            "Error  Invalid URL '': No schema supplied. Perhaps you meant http://?\n",
            "Error  Invalid URL '': No schema supplied. Perhaps you meant http://?\n",
            "Error  Invalid URL '': No schema supplied. Perhaps you meant http://?\n",
            "Error  Invalid URL '': No schema supplied. Perhaps you meant http://?\n",
            "Error  Invalid URL '': No schema supplied. Perhaps you meant http://?\n",
            "test wolf test_wolf.csv https://raw.githubusercontent.com/chettkulkarni/deep_learning/master/dataset/test_wolf.csv\n"
          ],
          "name": "stdout"
        },
        {
          "output_type": "display_data",
          "data": {
            "text/html": [
              ""
            ],
            "text/plain": [
              "<IPython.core.display.HTML object>"
            ]
          },
          "metadata": {
            "tags": []
          }
        },
        {
          "output_type": "stream",
          "text": [
            "Error ﻿https://encrypted-tbn0.gstatic.com/images?q=tbn%3AANd9GcRKAS4X6cKUvNAuHgAPBiK6716lszh5Loy-1jkR-VVJ1xHni7_w&usqp=CAU No connection adapters were found for '﻿https://encrypted-tbn0.gstatic.com/images?q=tbn%3AANd9GcRKAS4X6cKUvNAuHgAPBiK6716lszh5Loy-1jkR-VVJ1xHni7_w&usqp=CAU'\n",
            "Error  Invalid URL '': No schema supplied. Perhaps you meant http://?\n",
            "Error  Invalid URL '': No schema supplied. Perhaps you meant http://?\n",
            "Error  Invalid URL '': No schema supplied. Perhaps you meant http://?\n",
            "Error  Invalid URL '': No schema supplied. Perhaps you meant http://?\n",
            "Error  Invalid URL '': No schema supplied. Perhaps you meant http://?\n",
            "Error  Invalid URL '': No schema supplied. Perhaps you meant http://?\n",
            "Error  Invalid URL '': No schema supplied. Perhaps you meant http://?\n",
            "Error  Invalid URL '': No schema supplied. Perhaps you meant http://?\n",
            "Error  Invalid URL '': No schema supplied. Perhaps you meant http://?\n",
            "Error  Invalid URL '': No schema supplied. Perhaps you meant http://?\n",
            "Error  Invalid URL '': No schema supplied. Perhaps you meant http://?\n",
            "Error  Invalid URL '': No schema supplied. Perhaps you meant http://?\n",
            "Error  Invalid URL '': No schema supplied. Perhaps you meant http://?\n",
            "Error  Invalid URL '': No schema supplied. Perhaps you meant http://?\n",
            "Error  Invalid URL '': No schema supplied. Perhaps you meant http://?\n",
            "Error  Invalid URL '': No schema supplied. Perhaps you meant http://?\n",
            "Error  Invalid URL '': No schema supplied. Perhaps you meant http://?\n",
            "Error  Invalid URL '': No schema supplied. Perhaps you meant http://?\n",
            "Error  Invalid URL '': No schema supplied. Perhaps you meant http://?\n",
            "Error  Invalid URL '': No schema supplied. Perhaps you meant http://?\n",
            "train krishna train_krishna.csv https://raw.githubusercontent.com/chettkulkarni/deep_learning/master/dataset/train_krishna.csv\n"
          ],
          "name": "stdout"
        },
        {
          "output_type": "display_data",
          "data": {
            "text/html": [
              ""
            ],
            "text/plain": [
              "<IPython.core.display.HTML object>"
            ]
          },
          "metadata": {
            "tags": []
          }
        },
        {
          "output_type": "stream",
          "text": [
            "Error  Invalid URL '': No schema supplied. Perhaps you meant http://?\n",
            "Error  Invalid URL '': No schema supplied. Perhaps you meant http://?\n",
            "Error  Invalid URL '': No schema supplied. Perhaps you meant http://?\n",
            "Error  Invalid URL '': No schema supplied. Perhaps you meant http://?\n",
            "Error  Invalid URL '': No schema supplied. Perhaps you meant http://?\n",
            "Error  Invalid URL '': No schema supplied. Perhaps you meant http://?\n",
            "Error  Invalid URL '': No schema supplied. Perhaps you meant http://?\n",
            "Error  Invalid URL '': No schema supplied. Perhaps you meant http://?\n",
            "Error  Invalid URL '': No schema supplied. Perhaps you meant http://?\n",
            "Error  Invalid URL '': No schema supplied. Perhaps you meant http://?\n",
            "Error  Invalid URL '': No schema supplied. Perhaps you meant http://?\n",
            "Error  Invalid URL '': No schema supplied. Perhaps you meant http://?\n",
            "Error  Invalid URL '': No schema supplied. Perhaps you meant http://?\n",
            "Error  Invalid URL '': No schema supplied. Perhaps you meant http://?\n",
            "Error  Invalid URL '': No schema supplied. Perhaps you meant http://?\n",
            "Error  Invalid URL '': No schema supplied. Perhaps you meant http://?\n",
            "Error  Invalid URL '': No schema supplied. Perhaps you meant http://?\n",
            "Error  Invalid URL '': No schema supplied. Perhaps you meant http://?\n",
            "Error  Invalid URL '': No schema supplied. Perhaps you meant http://?\n",
            "Error  Invalid URL '': No schema supplied. Perhaps you meant http://?\n",
            "test krishna test_krishna.csv https://raw.githubusercontent.com/chettkulkarni/deep_learning/master/dataset/test_krishna.csv\n"
          ],
          "name": "stdout"
        },
        {
          "output_type": "display_data",
          "data": {
            "text/html": [
              ""
            ],
            "text/plain": [
              "<IPython.core.display.HTML object>"
            ]
          },
          "metadata": {
            "tags": []
          }
        },
        {
          "output_type": "stream",
          "text": [
            "Error ﻿https://encrypted-tbn0.gstatic.com/images?q=tbn%3AANd9GcSFqdylkcAcFQPihyMx9rI0tYi_wVaEZt54pnr03LZ3uD_cjU4_ No connection adapters were found for '﻿https://encrypted-tbn0.gstatic.com/images?q=tbn%3AANd9GcSFqdylkcAcFQPihyMx9rI0tYi_wVaEZt54pnr03LZ3uD_cjU4_'\n",
            "train santa_claus train_santa_claus.csv https://raw.githubusercontent.com/chettkulkarni/deep_learning/master/dataset/train_santa_claus.csv\n"
          ],
          "name": "stdout"
        },
        {
          "output_type": "display_data",
          "data": {
            "text/html": [
              ""
            ],
            "text/plain": [
              "<IPython.core.display.HTML object>"
            ]
          },
          "metadata": {
            "tags": []
          }
        },
        {
          "output_type": "stream",
          "text": [
            "Error  Invalid URL '': No schema supplied. Perhaps you meant http://?\n",
            "Error  Invalid URL '': No schema supplied. Perhaps you meant http://?\n",
            "Error  Invalid URL '': No schema supplied. Perhaps you meant http://?\n",
            "Error  Invalid URL '': No schema supplied. Perhaps you meant http://?\n",
            "Error  Invalid URL '': No schema supplied. Perhaps you meant http://?\n",
            "Error  Invalid URL '': No schema supplied. Perhaps you meant http://?\n",
            "Error  Invalid URL '': No schema supplied. Perhaps you meant http://?\n",
            "Error  Invalid URL '': No schema supplied. Perhaps you meant http://?\n",
            "Error  Invalid URL '': No schema supplied. Perhaps you meant http://?\n",
            "Error  Invalid URL '': No schema supplied. Perhaps you meant http://?\n",
            "Error  Invalid URL '': No schema supplied. Perhaps you meant http://?\n",
            "Error  Invalid URL '': No schema supplied. Perhaps you meant http://?\n",
            "Error  Invalid URL '': No schema supplied. Perhaps you meant http://?\n",
            "Error  Invalid URL '': No schema supplied. Perhaps you meant http://?\n",
            "Error  Invalid URL '': No schema supplied. Perhaps you meant http://?\n",
            "Error  Invalid URL '': No schema supplied. Perhaps you meant http://?\n",
            "Error  Invalid URL '': No schema supplied. Perhaps you meant http://?\n",
            "Error  Invalid URL '': No schema supplied. Perhaps you meant http://?\n",
            "Error  Invalid URL '': No schema supplied. Perhaps you meant http://?\n",
            "Error  Invalid URL '': No schema supplied. Perhaps you meant http://?\n",
            "test santa_claus test_santa_claus.csv https://raw.githubusercontent.com/chettkulkarni/deep_learning/master/dataset/test_santa_claus.csv\n"
          ],
          "name": "stdout"
        },
        {
          "output_type": "display_data",
          "data": {
            "text/html": [
              ""
            ],
            "text/plain": [
              "<IPython.core.display.HTML object>"
            ]
          },
          "metadata": {
            "tags": []
          }
        },
        {
          "output_type": "stream",
          "text": [
            "Error ﻿https://encrypted-tbn0.gstatic.com/images?q=tbn%3AANd9GcTiyGF94DrYGekp-FZRdYUsyfYAugNcwgNkeidkhzGPzZ3ax6Jx No connection adapters were found for '﻿https://encrypted-tbn0.gstatic.com/images?q=tbn%3AANd9GcTiyGF94DrYGekp-FZRdYUsyfYAugNcwgNkeidkhzGPzZ3ax6Jx'\n",
            "train cars train_cars.csv https://raw.githubusercontent.com/chettkulkarni/deep_learning/master/dataset/train_cars.csv\n"
          ],
          "name": "stdout"
        },
        {
          "output_type": "display_data",
          "data": {
            "text/html": [
              ""
            ],
            "text/plain": [
              "<IPython.core.display.HTML object>"
            ]
          },
          "metadata": {
            "tags": []
          }
        },
        {
          "output_type": "stream",
          "text": [
            "Error  Invalid URL '': No schema supplied. Perhaps you meant http://?\n",
            "Error  Invalid URL '': No schema supplied. Perhaps you meant http://?\n",
            "Error  Invalid URL '': No schema supplied. Perhaps you meant http://?\n",
            "Error  Invalid URL '': No schema supplied. Perhaps you meant http://?\n",
            "Error  Invalid URL '': No schema supplied. Perhaps you meant http://?\n",
            "Error  Invalid URL '': No schema supplied. Perhaps you meant http://?\n",
            "Error  Invalid URL '': No schema supplied. Perhaps you meant http://?\n",
            "Error  Invalid URL '': No schema supplied. Perhaps you meant http://?\n",
            "Error  Invalid URL '': No schema supplied. Perhaps you meant http://?\n",
            "Error  Invalid URL '': No schema supplied. Perhaps you meant http://?\n",
            "Error  Invalid URL '': No schema supplied. Perhaps you meant http://?\n",
            "Error  Invalid URL '': No schema supplied. Perhaps you meant http://?\n",
            "Error  Invalid URL '': No schema supplied. Perhaps you meant http://?\n",
            "Error  Invalid URL '': No schema supplied. Perhaps you meant http://?\n",
            "Error  Invalid URL '': No schema supplied. Perhaps you meant http://?\n",
            "Error  Invalid URL '': No schema supplied. Perhaps you meant http://?\n",
            "Error  Invalid URL '': No schema supplied. Perhaps you meant http://?\n",
            "Error  Invalid URL '': No schema supplied. Perhaps you meant http://?\n",
            "Error  Invalid URL '': No schema supplied. Perhaps you meant http://?\n",
            "Error  Invalid URL '': No schema supplied. Perhaps you meant http://?\n",
            "Error  Invalid URL '': No schema supplied. Perhaps you meant http://?\n",
            "Error  Invalid URL '': No schema supplied. Perhaps you meant http://?\n",
            "Error  Invalid URL '': No schema supplied. Perhaps you meant http://?\n",
            "Error  Invalid URL '': No schema supplied. Perhaps you meant http://?\n",
            "Error  Invalid URL '': No schema supplied. Perhaps you meant http://?\n",
            "Error  Invalid URL '': No schema supplied. Perhaps you meant http://?\n",
            "Error  Invalid URL '': No schema supplied. Perhaps you meant http://?\n",
            "Error  Invalid URL '': No schema supplied. Perhaps you meant http://?\n",
            "Error  Invalid URL '': No schema supplied. Perhaps you meant http://?\n",
            "Error  Invalid URL '': No schema supplied. Perhaps you meant http://?\n",
            "Error  Invalid URL '': No schema supplied. Perhaps you meant http://?\n",
            "Error  Invalid URL '': No schema supplied. Perhaps you meant http://?\n",
            "Error  Invalid URL '': No schema supplied. Perhaps you meant http://?\n",
            "Error  Invalid URL '': No schema supplied. Perhaps you meant http://?\n",
            "Error  Invalid URL '': No schema supplied. Perhaps you meant http://?\n",
            "Error  Invalid URL '': No schema supplied. Perhaps you meant http://?\n",
            "Error  Invalid URL '': No schema supplied. Perhaps you meant http://?\n",
            "Error  Invalid URL '': No schema supplied. Perhaps you meant http://?\n",
            "Error  Invalid URL '': No schema supplied. Perhaps you meant http://?\n",
            "Error  Invalid URL '': No schema supplied. Perhaps you meant http://?\n",
            "test cars test_cars.csv https://raw.githubusercontent.com/chettkulkarni/deep_learning/master/dataset/test_cars.csv\n"
          ],
          "name": "stdout"
        },
        {
          "output_type": "display_data",
          "data": {
            "text/html": [
              ""
            ],
            "text/plain": [
              "<IPython.core.display.HTML object>"
            ]
          },
          "metadata": {
            "tags": []
          }
        },
        {
          "output_type": "stream",
          "text": [
            "Error ﻿https://encrypted-tbn0.gstatic.com/images?q=tbn%3AANd9GcTFZ-kxiLq9Pah2mIjNa4ugNRKab0sKB8Y9yfQbTBJali0GFJB-&usqp=CAU No connection adapters were found for '﻿https://encrypted-tbn0.gstatic.com/images?q=tbn%3AANd9GcTFZ-kxiLq9Pah2mIjNa4ugNRKab0sKB8Y9yfQbTBJali0GFJB-&usqp=CAU'\n",
            "train food train_food.csv https://raw.githubusercontent.com/chettkulkarni/deep_learning/master/dataset/train_food.csv\n"
          ],
          "name": "stdout"
        },
        {
          "output_type": "display_data",
          "data": {
            "text/html": [
              ""
            ],
            "text/plain": [
              "<IPython.core.display.HTML object>"
            ]
          },
          "metadata": {
            "tags": []
          }
        },
        {
          "output_type": "stream",
          "text": [
            "Error  Invalid URL '': No schema supplied. Perhaps you meant http://?\n",
            "Error  Invalid URL '': No schema supplied. Perhaps you meant http://?\n",
            "Error  Invalid URL '': No schema supplied. Perhaps you meant http://?\n",
            "Error  Invalid URL '': No schema supplied. Perhaps you meant http://?\n",
            "Error  Invalid URL '': No schema supplied. Perhaps you meant http://?\n",
            "Error  Invalid URL '': No schema supplied. Perhaps you meant http://?\n",
            "Error  Invalid URL '': No schema supplied. Perhaps you meant http://?\n",
            "Error  Invalid URL '': No schema supplied. Perhaps you meant http://?\n",
            "Error  Invalid URL '': No schema supplied. Perhaps you meant http://?\n",
            "Error  Invalid URL '': No schema supplied. Perhaps you meant http://?\n",
            "Error  Invalid URL '': No schema supplied. Perhaps you meant http://?\n",
            "Error  Invalid URL '': No schema supplied. Perhaps you meant http://?\n",
            "Error  Invalid URL '': No schema supplied. Perhaps you meant http://?\n",
            "Error  Invalid URL '': No schema supplied. Perhaps you meant http://?\n",
            "Error  Invalid URL '': No schema supplied. Perhaps you meant http://?\n",
            "Error  Invalid URL '': No schema supplied. Perhaps you meant http://?\n",
            "Error  Invalid URL '': No schema supplied. Perhaps you meant http://?\n",
            "Error  Invalid URL '': No schema supplied. Perhaps you meant http://?\n",
            "Error  Invalid URL '': No schema supplied. Perhaps you meant http://?\n",
            "Error  Invalid URL '': No schema supplied. Perhaps you meant http://?\n",
            "Error  Invalid URL '': No schema supplied. Perhaps you meant http://?\n",
            "Error  Invalid URL '': No schema supplied. Perhaps you meant http://?\n",
            "Error  Invalid URL '': No schema supplied. Perhaps you meant http://?\n",
            "Error  Invalid URL '': No schema supplied. Perhaps you meant http://?\n",
            "Error  Invalid URL '': No schema supplied. Perhaps you meant http://?\n",
            "Error  Invalid URL '': No schema supplied. Perhaps you meant http://?\n",
            "Error  Invalid URL '': No schema supplied. Perhaps you meant http://?\n",
            "Error  Invalid URL '': No schema supplied. Perhaps you meant http://?\n",
            "Error  Invalid URL '': No schema supplied. Perhaps you meant http://?\n",
            "Error  Invalid URL '': No schema supplied. Perhaps you meant http://?\n",
            "Error  Invalid URL '': No schema supplied. Perhaps you meant http://?\n",
            "Error  Invalid URL '': No schema supplied. Perhaps you meant http://?\n",
            "Error  Invalid URL '': No schema supplied. Perhaps you meant http://?\n",
            "Error  Invalid URL '': No schema supplied. Perhaps you meant http://?\n",
            "Error  Invalid URL '': No schema supplied. Perhaps you meant http://?\n",
            "Error  Invalid URL '': No schema supplied. Perhaps you meant http://?\n",
            "Error  Invalid URL '': No schema supplied. Perhaps you meant http://?\n",
            "Error  Invalid URL '': No schema supplied. Perhaps you meant http://?\n",
            "Error  Invalid URL '': No schema supplied. Perhaps you meant http://?\n",
            "Error  Invalid URL '': No schema supplied. Perhaps you meant http://?\n",
            "test food test_food.csv https://raw.githubusercontent.com/chettkulkarni/deep_learning/master/dataset/test_food.csv\n"
          ],
          "name": "stdout"
        },
        {
          "output_type": "display_data",
          "data": {
            "text/html": [
              ""
            ],
            "text/plain": [
              "<IPython.core.display.HTML object>"
            ]
          },
          "metadata": {
            "tags": []
          }
        },
        {
          "output_type": "stream",
          "text": [
            "Error ﻿https://encrypted-tbn0.gstatic.com/images?q=tbn%3AANd9GcQeuNatrg7Df2k_VVR6maGMx9hLh5hYzRmTg9ImDPBceAF9fgUq&usqp=CAU No connection adapters were found for '﻿https://encrypted-tbn0.gstatic.com/images?q=tbn%3AANd9GcQeuNatrg7Df2k_VVR6maGMx9hLh5hYzRmTg9ImDPBceAF9fgUq&usqp=CAU'\n"
          ],
          "name": "stdout"
        }
      ]
    },
    {
      "cell_type": "code",
      "metadata": {
        "id": "k6xYTJqMR31_",
        "colab_type": "code",
        "outputId": "f16a9260-6cd5-41d0-a72d-df338774de8c",
        "colab": {
          "base_uri": "https://localhost:8080/",
          "height": 52
        }
      },
      "source": [
        "train_datagen = ImageDataGenerator(\n",
        "        rescale=1./255,\n",
        "        shear_range=0.2,\n",
        "        zoom_range=0.2,\n",
        "        horizontal_flip=True)\n",
        "batch_size=20\n",
        "test_datagen = ImageDataGenerator(rescale=1./255)\n",
        "\n",
        "train_generator = train_datagen.flow_from_directory(\n",
        "        'data/train',\n",
        "        target_size=(150, 150),\n",
        "        batch_size=batch_size)\n",
        "\n",
        "test_generator = train_datagen.flow_from_directory(\n",
        "        'data/test', \n",
        "        target_size=(150, 150),\n",
        "        batch_size=batch_size)\n"
      ],
      "execution_count": 0,
      "outputs": [
        {
          "output_type": "stream",
          "text": [
            "Found 1240 images belonging to 7 classes.\n",
            "Found 647 images belonging to 7 classes.\n"
          ],
          "name": "stdout"
        }
      ]
    },
    {
      "cell_type": "code",
      "metadata": {
        "id": "5n8vwin1TCpy",
        "colab_type": "code",
        "outputId": "91c11d18-73c0-4d4e-eea1-42bc9968c3b8",
        "colab": {
          "base_uri": "https://localhost:8080/",
          "height": 34
        }
      },
      "source": [
        "train_generator"
      ],
      "execution_count": 0,
      "outputs": [
        {
          "output_type": "execute_result",
          "data": {
            "text/plain": [
              "<keras.preprocessing.image.DirectoryIterator at 0x7fc5a276f1d0>"
            ]
          },
          "metadata": {
            "tags": []
          },
          "execution_count": 5
        }
      ]
    },
    {
      "cell_type": "code",
      "metadata": {
        "id": "ndAbB4uASFWM",
        "colab_type": "code",
        "colab": {}
      },
      "source": [
        "classifier = keras.models.Sequential()\n",
        "classifier.add(Conv2D(32, (3, 3), input_shape=(150, 150, 3),\n",
        "               activation='relu'))\n",
        "classifier.add(MaxPooling2D(pool_size=(2, 2)))\n",
        "classifier.add(Conv2D(32, (3, 3), activation='relu'))\n",
        "classifier.add(MaxPooling2D(pool_size=(2, 2)))\n",
        "classifier.add(Flatten())\n",
        "classifier.add(Dense(units=128, activation='relu'))\n",
        "classifier.add(Dense(units=128, activation='relu'))\n",
        "classifier.add(Dense(units=7, activation='softmax'))"
      ],
      "execution_count": 0,
      "outputs": []
    },
    {
      "cell_type": "code",
      "metadata": {
        "id": "HN6WtCGEkjgg",
        "colab_type": "code",
        "outputId": "19f8ae6c-cc8e-41e7-ad64-57db95c75b12",
        "colab": {
          "base_uri": "https://localhost:8080/",
          "height": 856
        }
      },
      "source": [
        "keras.utils.plot_model(classifier)"
      ],
      "execution_count": 0,
      "outputs": [
        {
          "output_type": "execute_result",
          "data": {
            "image/png": "[encoded data removed]",
            "text/plain": [
              "<IPython.core.display.Image object>"
            ]
          },
          "metadata": {
            "tags": []
          },
          "execution_count": 7
        }
      ]
    },
    {
      "cell_type": "code",
      "metadata": {
        "id": "42LVGhVDZJMq",
        "colab_type": "code",
        "colab": {}
      },
      "source": [
        "classifier.compile(optimizer='adam', loss='categorical_crossentropy',\n",
        "                   metrics=['accuracy'])"
      ],
      "execution_count": 0,
      "outputs": []
    },
    {
      "cell_type": "code",
      "metadata": {
        "id": "mc8oxaMhZj13",
        "colab_type": "code",
        "outputId": "4581f34c-45f6-4692-cf46-896aa52d560a",
        "colab": {
          "base_uri": "https://localhost:8080/",
          "height": 364
        }
      },
      "source": [
        "model_history=classifier.fit(train_generator,epochs=10)"
      ],
      "execution_count": 0,
      "outputs": [
        {
          "output_type": "stream",
          "text": [
            "Epoch 1/10\n",
            "62/62 [==============================] - 42s 683ms/step - loss: 1.7102 - accuracy: 0.3758\n",
            "Epoch 2/10\n",
            "62/62 [==============================] - 37s 597ms/step - loss: 1.0897 - accuracy: 0.6129\n",
            "Epoch 3/10\n",
            "62/62 [==============================] - 37s 594ms/step - loss: 0.9722 - accuracy: 0.6379\n",
            "Epoch 4/10\n",
            "62/62 [==============================] - 37s 592ms/step - loss: 0.8538 - accuracy: 0.6831\n",
            "Epoch 5/10\n",
            "62/62 [==============================] - 37s 590ms/step - loss: 0.7590 - accuracy: 0.7169\n",
            "Epoch 6/10\n",
            "62/62 [==============================] - 37s 589ms/step - loss: 0.6569 - accuracy: 0.7532\n",
            "Epoch 7/10\n",
            "62/62 [==============================] - 37s 590ms/step - loss: 0.6430 - accuracy: 0.7573\n",
            "Epoch 8/10\n",
            "62/62 [==============================] - 36s 588ms/step - loss: 0.5271 - accuracy: 0.8040\n",
            "Epoch 9/10\n",
            "62/62 [==============================] - 36s 588ms/step - loss: 0.5073 - accuracy: 0.8024\n",
            "Epoch 10/10\n",
            "62/62 [==============================] - 37s 590ms/step - loss: 0.4884 - accuracy: 0.8282\n"
          ],
          "name": "stdout"
        }
      ]
    },
    {
      "cell_type": "code",
      "metadata": {
        "id": "FFknQ5HRkrgE",
        "colab_type": "code",
        "outputId": "305822a7-e6c5-4d13-a777-48d81c9ef6c6",
        "colab": {
          "base_uri": "https://localhost:8080/",
          "height": 341
        }
      },
      "source": [
        "import pandas as pd\n",
        "pd.DataFrame(model_history.history).plot(figsize=(8,5))\n",
        "import matplotlib.pyplot as plt\n",
        "\n",
        "plt.grid(True)\n",
        "plt.gca().set_ylim(0,1)"
      ],
      "execution_count": 0,
      "outputs": [
        {
          "output_type": "execute_result",
          "data": {
            "text/plain": [
              "(0.0, 1.0)"
            ]
          },
          "metadata": {
            "tags": []
          },
          "execution_count": 10
        },
        {
          "output_type": "display_data",
          "data": {
            "image/png": "[encoded data removed]",
            "text/plain": [
              "<Figure size 576x360 with 1 Axes>"
            ]
          },
          "metadata": {
            "tags": [],
            "needs_background": "light"
          }
        }
      ]
    },
    {
      "cell_type": "code",
      "metadata": {
        "id": "8yP2h5c5ZxEN",
        "colab_type": "code",
        "outputId": "ea92f887-53f0-4cf9-98f9-d423a0b7bca4",
        "colab": {
          "base_uri": "https://localhost:8080/",
          "height": 52
        }
      },
      "source": [
        "test_loss, test_acc = classifier.evaluate(test_generator, verbose=2)\n",
        "\n",
        "print('\\nTest accuracy:', test_acc)"
      ],
      "execution_count": 0,
      "outputs": [
        {
          "output_type": "stream",
          "text": [
            "\n",
            "Test accuracy: 0.5873261094093323\n"
          ],
          "name": "stdout"
        }
      ]
    },
    {
      "cell_type": "code",
      "metadata": {
        "id": "7kY7VtSCb_kk",
        "colab_type": "code",
        "colab": {}
      },
      "source": [
        ""
      ],
      "execution_count": 0,
      "outputs": []
    }
  ]
}