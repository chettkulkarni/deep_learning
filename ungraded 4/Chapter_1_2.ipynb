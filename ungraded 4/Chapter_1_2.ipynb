{
  "nbformat": 4,
  "nbformat_minor": 0,
  "metadata": {
    "colab": {
      "name": "Chapter 1-2.ipynb",
      "provenance": [],
      "include_colab_link": true
    },
    "kernelspec": {
      "name": "python3",
      "display_name": "Python 3"
    },
    "accelerator": "GPU"
  },
  "cells": [
    {
      "cell_type": "markdown",
      "metadata": {
        "id": "view-in-github",
        "colab_type": "text"
      },
      "source": [
        "<a href=\"https://colab.research.google.com/github/chettkulkarni/deep_learning/blob/master/ungraded%204/Chapter_1_2.ipynb\" target=\"_parent\"><img src=\"https://colab.research.google.com/assets/colab-badge.svg\" alt=\"Open In Colab\"/></a>"
      ]
    },
    {
      "cell_type": "markdown",
      "metadata": {
        "id": "laZW-xXGq3en",
        "colab_type": "text"
      },
      "source": [
        "##Tensor Fundamentals"
      ]
    },
    {
      "cell_type": "code",
      "metadata": {
        "id": "YFZf2HmXrtL0",
        "colab_type": "code",
        "colab": {}
      },
      "source": [
        "import torch"
      ],
      "execution_count": 0,
      "outputs": []
    },
    {
      "cell_type": "code",
      "metadata": {
        "id": "rpGnMkyUXzPX",
        "colab_type": "code",
        "colab": {}
      },
      "source": [
        "a = torch.ones(3,3)"
      ],
      "execution_count": 0,
      "outputs": []
    },
    {
      "cell_type": "code",
      "metadata": {
        "id": "sVlHrRT5X1St",
        "colab_type": "code",
        "outputId": "279801a3-cb28-4eae-d48a-3c74f1aab780",
        "colab": {
          "base_uri": "https://localhost:8080/",
          "height": 68
        }
      },
      "source": [
        "a"
      ],
      "execution_count": 0,
      "outputs": [
        {
          "output_type": "execute_result",
          "data": {
            "text/plain": [
              "tensor([[1., 1., 1.],\n",
              "        [1., 1., 1.],\n",
              "        [1., 1., 1.]])"
            ]
          },
          "metadata": {
            "tags": []
          },
          "execution_count": 4
        }
      ]
    },
    {
      "cell_type": "code",
      "metadata": {
        "id": "okpN-yC7X2Vs",
        "colab_type": "code",
        "colab": {}
      },
      "source": [
        "a = torch.ones(2,3)"
      ],
      "execution_count": 0,
      "outputs": []
    },
    {
      "cell_type": "code",
      "metadata": {
        "id": "MN7OHdTYX6r8",
        "colab_type": "code",
        "outputId": "36d680b7-a135-42b8-8db3-7c5625c4baa2",
        "colab": {
          "base_uri": "https://localhost:8080/",
          "height": 51
        }
      },
      "source": [
        "a"
      ],
      "execution_count": 0,
      "outputs": [
        {
          "output_type": "execute_result",
          "data": {
            "text/plain": [
              "tensor([[1., 1., 1.],\n",
              "        [1., 1., 1.]])"
            ]
          },
          "metadata": {
            "tags": []
          },
          "execution_count": 6
        }
      ]
    },
    {
      "cell_type": "code",
      "metadata": {
        "id": "wGKaxJnWX6_k",
        "colab_type": "code",
        "colab": {}
      },
      "source": [
        "a = torch.empty(2,4)"
      ],
      "execution_count": 0,
      "outputs": []
    },
    {
      "cell_type": "code",
      "metadata": {
        "id": "6T8FOAlsYFxm",
        "colab_type": "code",
        "outputId": "a9006bbb-3150-42be-b6a6-9cd2c8a0eb97",
        "colab": {
          "base_uri": "https://localhost:8080/",
          "height": 51
        }
      },
      "source": [
        "torch.ones_like(a)"
      ],
      "execution_count": 0,
      "outputs": [
        {
          "output_type": "execute_result",
          "data": {
            "text/plain": [
              "tensor([[1., 1., 1., 1.],\n",
              "        [1., 1., 1., 1.]])"
            ]
          },
          "metadata": {
            "tags": []
          },
          "execution_count": 8
        }
      ]
    },
    {
      "cell_type": "code",
      "metadata": {
        "id": "W5rePJseYGO9",
        "colab_type": "code",
        "colab": {}
      },
      "source": [
        "a[1] = 3"
      ],
      "execution_count": 0,
      "outputs": []
    },
    {
      "cell_type": "code",
      "metadata": {
        "id": "O0pLTszJYiW9",
        "colab_type": "code",
        "outputId": "99937998-9d7d-4517-8915-410a9803f246",
        "colab": {
          "base_uri": "https://localhost:8080/",
          "height": 51
        }
      },
      "source": [
        "torch.ones_like(a)"
      ],
      "execution_count": 0,
      "outputs": [
        {
          "output_type": "execute_result",
          "data": {
            "text/plain": [
              "tensor([[1., 1., 1., 1.],\n",
              "        [1., 1., 1., 1.]])"
            ]
          },
          "metadata": {
            "tags": []
          },
          "execution_count": 10
        }
      ]
    },
    {
      "cell_type": "code",
      "metadata": {
        "id": "pP2725c6Ylye",
        "colab_type": "code",
        "outputId": "31d8af6e-767b-4433-e5f2-1e59025c86fa",
        "colab": {
          "base_uri": "https://localhost:8080/",
          "height": 51
        }
      },
      "source": [
        "a\n"
      ],
      "execution_count": 0,
      "outputs": [
        {
          "output_type": "execute_result",
          "data": {
            "text/plain": [
              "tensor([[2.2639e-36, 0.0000e+00, 0.0000e+00, 0.0000e+00],\n",
              "        [3.0000e+00, 3.0000e+00, 3.0000e+00, 3.0000e+00]])"
            ]
          },
          "metadata": {
            "tags": []
          },
          "execution_count": 11
        }
      ]
    },
    {
      "cell_type": "code",
      "metadata": {
        "id": "UXpLCzD9YnDC",
        "colab_type": "code",
        "colab": {}
      },
      "source": [
        "b = torch.ones(2,4)"
      ],
      "execution_count": 0,
      "outputs": []
    },
    {
      "cell_type": "code",
      "metadata": {
        "id": "szbeIHfyYpny",
        "colab_type": "code",
        "outputId": "7d51a14d-55f5-4911-c425-83f84c78c10d",
        "colab": {
          "base_uri": "https://localhost:8080/",
          "height": 51
        }
      },
      "source": [
        "a + b"
      ],
      "execution_count": 0,
      "outputs": [
        {
          "output_type": "execute_result",
          "data": {
            "text/plain": [
              "tensor([[1., 1., 1., 1.],\n",
              "        [4., 4., 4., 4.]])"
            ]
          },
          "metadata": {
            "tags": []
          },
          "execution_count": 13
        }
      ]
    },
    {
      "cell_type": "code",
      "metadata": {
        "id": "FiWQOHpuYrDD",
        "colab_type": "code",
        "colab": {}
      },
      "source": [
        "points = torch.tensor([[1.0, 4.0], [2.0, 1.0], [3.0, 5.0]])"
      ],
      "execution_count": 0,
      "outputs": []
    },
    {
      "cell_type": "code",
      "metadata": {
        "id": "Jz9Z8PGYYz6E",
        "colab_type": "code",
        "outputId": "f1b25aa0-2242-416f-94e3-40aca4493eef",
        "colab": {
          "base_uri": "https://localhost:8080/",
          "height": 68
        }
      },
      "source": [
        "points"
      ],
      "execution_count": 0,
      "outputs": [
        {
          "output_type": "execute_result",
          "data": {
            "text/plain": [
              "tensor([[1., 4.],\n",
              "        [2., 1.],\n",
              "        [3., 5.]])"
            ]
          },
          "metadata": {
            "tags": []
          },
          "execution_count": 15
        }
      ]
    },
    {
      "cell_type": "code",
      "metadata": {
        "id": "cc-0WhE9Y1g0",
        "colab_type": "code",
        "outputId": "5c584079-53aa-4c05-f493-b7cae42d2309",
        "colab": {
          "base_uri": "https://localhost:8080/",
          "height": 34
        }
      },
      "source": [
        "points.shape"
      ],
      "execution_count": 0,
      "outputs": [
        {
          "output_type": "execute_result",
          "data": {
            "text/plain": [
              "torch.Size([3, 2])"
            ]
          },
          "metadata": {
            "tags": []
          },
          "execution_count": 16
        }
      ]
    },
    {
      "cell_type": "markdown",
      "metadata": {
        "id": "ivWwdiAMZFVt",
        "colab_type": "text"
      },
      "source": [
        "Access Elements"
      ]
    },
    {
      "cell_type": "code",
      "metadata": {
        "id": "slZwHP2SY7Mk",
        "colab_type": "code",
        "outputId": "834450e8-ee0c-417f-ef39-7a1cdf5b25d6",
        "colab": {
          "base_uri": "https://localhost:8080/",
          "height": 34
        }
      },
      "source": [
        "points[0, 1]"
      ],
      "execution_count": 0,
      "outputs": [
        {
          "output_type": "execute_result",
          "data": {
            "text/plain": [
              "tensor(4.)"
            ]
          },
          "metadata": {
            "tags": []
          },
          "execution_count": 17
        }
      ]
    },
    {
      "cell_type": "code",
      "metadata": {
        "id": "AH5PMD1oZOB5",
        "colab_type": "code",
        "outputId": "a906339d-ffe4-45d5-a2a0-92bfbaaa5b1d",
        "colab": {
          "base_uri": "https://localhost:8080/",
          "height": 34
        }
      },
      "source": [
        "points[0]"
      ],
      "execution_count": 0,
      "outputs": [
        {
          "output_type": "execute_result",
          "data": {
            "text/plain": [
              "tensor([1., 4.])"
            ]
          },
          "metadata": {
            "tags": []
          },
          "execution_count": 18
        }
      ]
    },
    {
      "cell_type": "markdown",
      "metadata": {
        "id": "wPs8Px8ErAGt",
        "colab_type": "text"
      },
      "source": [
        "###Size, storage offset, and strides"
      ]
    },
    {
      "cell_type": "markdown",
      "metadata": {
        "id": "zyeMuFHTZZz3",
        "colab_type": "text"
      },
      "source": [
        "Access Storage of Tensors"
      ]
    },
    {
      "cell_type": "code",
      "metadata": {
        "id": "O69fXNS5ZRHw",
        "colab_type": "code",
        "outputId": "4cbacfe4-151c-49b8-b893-5cde3528c3d5",
        "colab": {
          "base_uri": "https://localhost:8080/",
          "height": 136
        }
      },
      "source": [
        "points.storage()"
      ],
      "execution_count": 0,
      "outputs": [
        {
          "output_type": "execute_result",
          "data": {
            "text/plain": [
              " 1.0\n",
              " 4.0\n",
              " 2.0\n",
              " 1.0\n",
              " 3.0\n",
              " 5.0\n",
              "[torch.FloatStorage of size 6]"
            ]
          },
          "metadata": {
            "tags": []
          },
          "execution_count": 19
        }
      ]
    },
    {
      "cell_type": "markdown",
      "metadata": {
        "id": "E79NqXAdZk8h",
        "colab_type": "text"
      },
      "source": [
        "Index storage Manually"
      ]
    },
    {
      "cell_type": "code",
      "metadata": {
        "id": "LOySP99qZc4a",
        "colab_type": "code",
        "outputId": "7b8d9947-2039-4445-ea7f-87eb46273e04",
        "colab": {
          "base_uri": "https://localhost:8080/",
          "height": 34
        }
      },
      "source": [
        "points_storage = points.storage()\n",
        "points_storage[0]"
      ],
      "execution_count": 0,
      "outputs": [
        {
          "output_type": "execute_result",
          "data": {
            "text/plain": [
              "1.0"
            ]
          },
          "metadata": {
            "tags": []
          },
          "execution_count": 20
        }
      ]
    },
    {
      "cell_type": "code",
      "metadata": {
        "id": "wHmqhm-9ZmjQ",
        "colab_type": "code",
        "outputId": "a2b14bb1-dfd2-47cb-8f2f-ab4bbbb07bef",
        "colab": {
          "base_uri": "https://localhost:8080/",
          "height": 34
        }
      },
      "source": [
        "points.storage()[1]"
      ],
      "execution_count": 0,
      "outputs": [
        {
          "output_type": "execute_result",
          "data": {
            "text/plain": [
              "4.0"
            ]
          },
          "metadata": {
            "tags": []
          },
          "execution_count": 21
        }
      ]
    },
    {
      "cell_type": "code",
      "metadata": {
        "id": "LO63LRgtZopQ",
        "colab_type": "code",
        "outputId": "c54a95fc-a8a1-4b89-e633-72627f04ab77",
        "colab": {
          "base_uri": "https://localhost:8080/",
          "height": 34
        }
      },
      "source": [
        "points.storage()[0]"
      ],
      "execution_count": 0,
      "outputs": [
        {
          "output_type": "execute_result",
          "data": {
            "text/plain": [
              "1.0"
            ]
          },
          "metadata": {
            "tags": []
          },
          "execution_count": 22
        }
      ]
    },
    {
      "cell_type": "markdown",
      "metadata": {
        "id": "VAgefXNEeNve",
        "colab_type": "text"
      },
      "source": [
        "Get the second point in the tensor"
      ]
    },
    {
      "cell_type": "code",
      "metadata": {
        "id": "CZ7l5B37ZpzJ",
        "colab_type": "code",
        "colab": {}
      },
      "source": [
        "points = torch.tensor([[1.0, 4.0], [2.0, 1.0], [3.0, 5.0]])"
      ],
      "execution_count": 0,
      "outputs": []
    },
    {
      "cell_type": "code",
      "metadata": {
        "id": "LVptTlGBrQkM",
        "colab_type": "code",
        "outputId": "d7d17c7c-3c46-4613-d979-c856814e34d0",
        "colab": {
          "base_uri": "https://localhost:8080/",
          "height": 34
        }
      },
      "source": [
        "points[1]"
      ],
      "execution_count": 0,
      "outputs": [
        {
          "output_type": "execute_result",
          "data": {
            "text/plain": [
              "tensor([2., 1.])"
            ]
          },
          "metadata": {
            "tags": []
          },
          "execution_count": 24
        }
      ]
    },
    {
      "cell_type": "code",
      "metadata": {
        "id": "-bopy6GJeRwC",
        "colab_type": "code",
        "outputId": "14e0e66d-94ba-4ecf-af20-e7fe32a7d969",
        "colab": {
          "base_uri": "https://localhost:8080/",
          "height": 34
        }
      },
      "source": [
        "second_point = points[1]\n",
        "second_point.storage_offset()"
      ],
      "execution_count": 0,
      "outputs": [
        {
          "output_type": "execute_result",
          "data": {
            "text/plain": [
              "2"
            ]
          },
          "metadata": {
            "tags": []
          },
          "execution_count": 25
        }
      ]
    },
    {
      "cell_type": "code",
      "metadata": {
        "id": "GLMbDy5MeT5a",
        "colab_type": "code",
        "outputId": "8dda864a-528a-4ee7-a758-4922b4cc838b",
        "colab": {
          "base_uri": "https://localhost:8080/",
          "height": 34
        }
      },
      "source": [
        "second_point.size()"
      ],
      "execution_count": 0,
      "outputs": [
        {
          "output_type": "execute_result",
          "data": {
            "text/plain": [
              "torch.Size([2])"
            ]
          },
          "metadata": {
            "tags": []
          },
          "execution_count": 26
        }
      ]
    },
    {
      "cell_type": "markdown",
      "metadata": {
        "id": "KV6XM3EHqw5o",
        "colab_type": "text"
      },
      "source": [
        "Stride"
      ]
    },
    {
      "cell_type": "code",
      "metadata": {
        "id": "iUqKLkHFeXUi",
        "colab_type": "code",
        "outputId": "a51f0634-9237-46c0-94e9-846dd66f587e",
        "colab": {
          "base_uri": "https://localhost:8080/",
          "height": 34
        }
      },
      "source": [
        "points.stride()"
      ],
      "execution_count": 0,
      "outputs": [
        {
          "output_type": "execute_result",
          "data": {
            "text/plain": [
              "(2, 1)"
            ]
          },
          "metadata": {
            "tags": []
          },
          "execution_count": 27
        }
      ]
    },
    {
      "cell_type": "code",
      "metadata": {
        "id": "7EPX_jzFrDnZ",
        "colab_type": "code",
        "outputId": "9c606f8c-7a6c-489b-fc6a-57020104f19b",
        "colab": {
          "base_uri": "https://localhost:8080/",
          "height": 34
        }
      },
      "source": [
        "second_point.storage_offset()"
      ],
      "execution_count": 0,
      "outputs": [
        {
          "output_type": "execute_result",
          "data": {
            "text/plain": [
              "2"
            ]
          },
          "metadata": {
            "tags": []
          },
          "execution_count": 28
        }
      ]
    },
    {
      "cell_type": "code",
      "metadata": {
        "id": "X5IthBCSrKeL",
        "colab_type": "code",
        "outputId": "391bb0bd-c80b-4ed7-925e-a61cb10a4272",
        "colab": {
          "base_uri": "https://localhost:8080/",
          "height": 34
        }
      },
      "source": [
        "second_point.stride()"
      ],
      "execution_count": 0,
      "outputs": [
        {
          "output_type": "execute_result",
          "data": {
            "text/plain": [
              "(1,)"
            ]
          },
          "metadata": {
            "tags": []
          },
          "execution_count": 29
        }
      ]
    },
    {
      "cell_type": "markdown",
      "metadata": {
        "id": "tynjMYAwrYOv",
        "colab_type": "text"
      },
      "source": [
        "Changing Subtensor affects the Original tensors too"
      ]
    },
    {
      "cell_type": "code",
      "metadata": {
        "id": "Qy9fPOhWrMhM",
        "colab_type": "code",
        "outputId": "cf0f98be-9046-4bb6-f7ac-c55c8c5771de",
        "colab": {
          "base_uri": "https://localhost:8080/",
          "height": 68
        }
      },
      "source": [
        "points"
      ],
      "execution_count": 0,
      "outputs": [
        {
          "output_type": "execute_result",
          "data": {
            "text/plain": [
              "tensor([[1., 4.],\n",
              "        [2., 1.],\n",
              "        [3., 5.]])"
            ]
          },
          "metadata": {
            "tags": []
          },
          "execution_count": 30
        }
      ]
    },
    {
      "cell_type": "code",
      "metadata": {
        "id": "xPqDRdMPrdcx",
        "colab_type": "code",
        "outputId": "ba175628-0af9-443d-985b-decd6b73e929",
        "colab": {
          "base_uri": "https://localhost:8080/",
          "height": 34
        }
      },
      "source": [
        "second_point"
      ],
      "execution_count": 0,
      "outputs": [
        {
          "output_type": "execute_result",
          "data": {
            "text/plain": [
              "tensor([2., 1.])"
            ]
          },
          "metadata": {
            "tags": []
          },
          "execution_count": 31
        }
      ]
    },
    {
      "cell_type": "code",
      "metadata": {
        "id": "DaSq2NAVrf3q",
        "colab_type": "code",
        "colab": {}
      },
      "source": [
        "second_point[0] = 10.0"
      ],
      "execution_count": 0,
      "outputs": []
    },
    {
      "cell_type": "code",
      "metadata": {
        "id": "D48XcKVOrgXT",
        "colab_type": "code",
        "outputId": "f9c141fd-f09e-484f-90a8-d8a12de5c2a6",
        "colab": {
          "base_uri": "https://localhost:8080/",
          "height": 34
        }
      },
      "source": [
        "second_point"
      ],
      "execution_count": 0,
      "outputs": [
        {
          "output_type": "execute_result",
          "data": {
            "text/plain": [
              "tensor([10.,  1.])"
            ]
          },
          "metadata": {
            "tags": []
          },
          "execution_count": 33
        }
      ]
    },
    {
      "cell_type": "code",
      "metadata": {
        "id": "uwM8xhkrrhYq",
        "colab_type": "code",
        "outputId": "05aad674-42c7-454a-8e1a-eef0b94aee74",
        "colab": {
          "base_uri": "https://localhost:8080/",
          "height": 68
        }
      },
      "source": [
        "points"
      ],
      "execution_count": 0,
      "outputs": [
        {
          "output_type": "execute_result",
          "data": {
            "text/plain": [
              "tensor([[ 1.,  4.],\n",
              "        [10.,  1.],\n",
              "        [ 3.,  5.]])"
            ]
          },
          "metadata": {
            "tags": []
          },
          "execution_count": 34
        }
      ]
    },
    {
      "cell_type": "markdown",
      "metadata": {
        "id": "paDQT1YCrmAm",
        "colab_type": "text"
      },
      "source": [
        "Clone Subtensor, so as not to change Original Tensor"
      ]
    },
    {
      "cell_type": "code",
      "metadata": {
        "id": "phhTxmnWriLi",
        "colab_type": "code",
        "outputId": "615c7d45-3b98-4706-a66c-92a47c137253",
        "colab": {
          "base_uri": "https://localhost:8080/",
          "height": 68
        }
      },
      "source": [
        "points = torch.tensor([[1.0, 4.0], [2.0, 1.0], [3.0, 5.0]])\n",
        "second_point = points[1].clone()\n",
        "second_point[0] = 10.0\n",
        "points"
      ],
      "execution_count": 0,
      "outputs": [
        {
          "output_type": "execute_result",
          "data": {
            "text/plain": [
              "tensor([[1., 4.],\n",
              "        [2., 1.],\n",
              "        [3., 5.]])"
            ]
          },
          "metadata": {
            "tags": []
          },
          "execution_count": 35
        }
      ]
    },
    {
      "cell_type": "markdown",
      "metadata": {
        "id": "7dOtvhHvrzMn",
        "colab_type": "text"
      },
      "source": [
        "##Transpose"
      ]
    },
    {
      "cell_type": "code",
      "metadata": {
        "id": "LIy4ZXkersJ7",
        "colab_type": "code",
        "colab": {}
      },
      "source": [
        "points_t = points.t()"
      ],
      "execution_count": 0,
      "outputs": []
    },
    {
      "cell_type": "code",
      "metadata": {
        "id": "HFmHmwcMr2Wt",
        "colab_type": "code",
        "outputId": "c847ddd8-a4c7-4432-b745-6f61623e1a18",
        "colab": {
          "base_uri": "https://localhost:8080/",
          "height": 51
        }
      },
      "source": [
        "points_t"
      ],
      "execution_count": 0,
      "outputs": [
        {
          "output_type": "execute_result",
          "data": {
            "text/plain": [
              "tensor([[1., 2., 3.],\n",
              "        [4., 1., 5.]])"
            ]
          },
          "metadata": {
            "tags": []
          },
          "execution_count": 37
        }
      ]
    },
    {
      "cell_type": "markdown",
      "metadata": {
        "id": "N5wZ7zT9r6dv",
        "colab_type": "text"
      },
      "source": [
        "Points and Points Transpose share the Storage"
      ]
    },
    {
      "cell_type": "code",
      "metadata": {
        "id": "GJvNAoFLr3RV",
        "colab_type": "code",
        "outputId": "5e8c08e5-083b-4103-95cc-2f7eae889c09",
        "colab": {
          "base_uri": "https://localhost:8080/",
          "height": 34
        }
      },
      "source": [
        "id(points.storage()) == id(points_t.storage())"
      ],
      "execution_count": 0,
      "outputs": [
        {
          "output_type": "execute_result",
          "data": {
            "text/plain": [
              "True"
            ]
          },
          "metadata": {
            "tags": []
          },
          "execution_count": 38
        }
      ]
    },
    {
      "cell_type": "markdown",
      "metadata": {
        "id": "CYZ31I-asCHF",
        "colab_type": "text"
      },
      "source": [
        "Points and Points Transpose differe in shape and Stride"
      ]
    },
    {
      "cell_type": "code",
      "metadata": {
        "id": "G74uUEPor9dO",
        "colab_type": "code",
        "outputId": "c1c88bbb-ba00-4cb4-af4c-27e86a2cd6ee",
        "colab": {
          "base_uri": "https://localhost:8080/",
          "height": 34
        }
      },
      "source": [
        "points.stride()"
      ],
      "execution_count": 0,
      "outputs": [
        {
          "output_type": "execute_result",
          "data": {
            "text/plain": [
              "(2, 1)"
            ]
          },
          "metadata": {
            "tags": []
          },
          "execution_count": 39
        }
      ]
    },
    {
      "cell_type": "code",
      "metadata": {
        "id": "kz91nd1PsIBI",
        "colab_type": "code",
        "outputId": "5a7924ca-b345-4dbe-9156-39b61b9849f8",
        "colab": {
          "base_uri": "https://localhost:8080/",
          "height": 34
        }
      },
      "source": [
        "points_t.stride()"
      ],
      "execution_count": 0,
      "outputs": [
        {
          "output_type": "execute_result",
          "data": {
            "text/plain": [
              "(1, 2)"
            ]
          },
          "metadata": {
            "tags": []
          },
          "execution_count": 40
        }
      ]
    },
    {
      "cell_type": "code",
      "metadata": {
        "id": "41_tu8pgsJWn",
        "colab_type": "code",
        "outputId": "9033cb8d-1908-4f55-fd92-7b5338748c2b",
        "colab": {
          "base_uri": "https://localhost:8080/",
          "height": 34
        }
      },
      "source": [
        "points.shape"
      ],
      "execution_count": 0,
      "outputs": [
        {
          "output_type": "execute_result",
          "data": {
            "text/plain": [
              "torch.Size([3, 2])"
            ]
          },
          "metadata": {
            "tags": []
          },
          "execution_count": 41
        }
      ]
    },
    {
      "cell_type": "code",
      "metadata": {
        "id": "3wrrhS_rsNrw",
        "colab_type": "code",
        "outputId": "0223e8d8-476e-411d-c982-f91950382174",
        "colab": {
          "base_uri": "https://localhost:8080/",
          "height": 34
        }
      },
      "source": [
        "points_t.shape"
      ],
      "execution_count": 0,
      "outputs": [
        {
          "output_type": "execute_result",
          "data": {
            "text/plain": [
              "torch.Size([2, 3])"
            ]
          },
          "metadata": {
            "tags": []
          },
          "execution_count": 42
        }
      ]
    },
    {
      "cell_type": "markdown",
      "metadata": {
        "id": "JiTDVyCWsXVu",
        "colab_type": "text"
      },
      "source": [
        "#Numerical Types"
      ]
    },
    {
      "cell_type": "code",
      "metadata": {
        "id": "2O8Sh9UisPwZ",
        "colab_type": "code",
        "colab": {}
      },
      "source": [
        "double_points = torch.ones(10, 2, dtype=torch.double)"
      ],
      "execution_count": 0,
      "outputs": []
    },
    {
      "cell_type": "code",
      "metadata": {
        "id": "BJIRyvEisbh-",
        "colab_type": "code",
        "colab": {}
      },
      "source": [
        "short_points = torch.tensor([[1, 2], [3, 4]], dtype=torch.short)"
      ],
      "execution_count": 0,
      "outputs": []
    },
    {
      "cell_type": "code",
      "metadata": {
        "id": "mXgbUxfksdAm",
        "colab_type": "code",
        "outputId": "a60d198f-cc75-48fe-9945-2f0792a734b8",
        "colab": {
          "base_uri": "https://localhost:8080/",
          "height": 34
        }
      },
      "source": [
        "double_points.dtype"
      ],
      "execution_count": 0,
      "outputs": [
        {
          "output_type": "execute_result",
          "data": {
            "text/plain": [
              "torch.float64"
            ]
          },
          "metadata": {
            "tags": []
          },
          "execution_count": 45
        }
      ]
    },
    {
      "cell_type": "code",
      "metadata": {
        "id": "BCyZiredsfIG",
        "colab_type": "code",
        "outputId": "3341e490-bf38-489b-a623-9c70a9513af3",
        "colab": {
          "base_uri": "https://localhost:8080/",
          "height": 34
        }
      },
      "source": [
        "short_points.dtype"
      ],
      "execution_count": 0,
      "outputs": [
        {
          "output_type": "execute_result",
          "data": {
            "text/plain": [
              "torch.int16"
            ]
          },
          "metadata": {
            "tags": []
          },
          "execution_count": 46
        }
      ]
    },
    {
      "cell_type": "markdown",
      "metadata": {
        "id": "yE0DoD64sou3",
        "colab_type": "text"
      },
      "source": [
        "Cast dtypes"
      ]
    },
    {
      "cell_type": "code",
      "metadata": {
        "id": "rqcGgoIIsgnO",
        "colab_type": "code",
        "colab": {}
      },
      "source": [
        "double_points = torch.zeros(10, 2).double()"
      ],
      "execution_count": 0,
      "outputs": []
    },
    {
      "cell_type": "code",
      "metadata": {
        "id": "rujioevOsqJv",
        "colab_type": "code",
        "outputId": "9bb1d0a3-fef2-4546-8f04-ef8f260558a2",
        "colab": {
          "base_uri": "https://localhost:8080/",
          "height": 34
        }
      },
      "source": [
        "double_points.dtype"
      ],
      "execution_count": 0,
      "outputs": [
        {
          "output_type": "execute_result",
          "data": {
            "text/plain": [
              "torch.float64"
            ]
          },
          "metadata": {
            "tags": []
          },
          "execution_count": 48
        }
      ]
    },
    {
      "cell_type": "markdown",
      "metadata": {
        "id": "FHlOSDdFtmjI",
        "colab_type": "text"
      },
      "source": [
        "##NumPy interoperability"
      ]
    },
    {
      "cell_type": "code",
      "metadata": {
        "id": "_mMbOWIZsrqw",
        "colab_type": "code",
        "colab": {}
      },
      "source": [
        "points = torch.ones(3, 4)"
      ],
      "execution_count": 0,
      "outputs": []
    },
    {
      "cell_type": "code",
      "metadata": {
        "id": "9m9pELiOvSL0",
        "colab_type": "code",
        "colab": {}
      },
      "source": [
        "points_np = points.numpy()"
      ],
      "execution_count": 0,
      "outputs": []
    },
    {
      "cell_type": "code",
      "metadata": {
        "id": "5ImmPo6mvTwr",
        "colab_type": "code",
        "outputId": "36673be7-9101-45bd-a6bf-b7ff1ac5259e",
        "colab": {
          "base_uri": "https://localhost:8080/",
          "height": 68
        }
      },
      "source": [
        "points_np"
      ],
      "execution_count": 0,
      "outputs": [
        {
          "output_type": "execute_result",
          "data": {
            "text/plain": [
              "array([[1., 1., 1., 1.],\n",
              "       [1., 1., 1., 1.],\n",
              "       [1., 1., 1., 1.]], dtype=float32)"
            ]
          },
          "metadata": {
            "tags": []
          },
          "execution_count": 51
        }
      ]
    },
    {
      "cell_type": "markdown",
      "metadata": {
        "id": "5xbiQcJNvevy",
        "colab_type": "text"
      },
      "source": [
        "PyTorch tensor from a NumPy array"
      ]
    },
    {
      "cell_type": "code",
      "metadata": {
        "id": "5E92PUXUvUuD",
        "colab_type": "code",
        "colab": {}
      },
      "source": [
        "points = torch.from_numpy(points_np)"
      ],
      "execution_count": 0,
      "outputs": []
    },
    {
      "cell_type": "code",
      "metadata": {
        "id": "vn_JxkVdvcto",
        "colab_type": "code",
        "outputId": "7ad3e777-aafa-4139-c324-b31aa6802c0a",
        "colab": {
          "base_uri": "https://localhost:8080/",
          "height": 68
        }
      },
      "source": [
        "points"
      ],
      "execution_count": 0,
      "outputs": [
        {
          "output_type": "execute_result",
          "data": {
            "text/plain": [
              "tensor([[1., 1., 1., 1.],\n",
              "        [1., 1., 1., 1.],\n",
              "        [1., 1., 1., 1.]])"
            ]
          },
          "metadata": {
            "tags": []
          },
          "execution_count": 53
        }
      ]
    },
    {
      "cell_type": "markdown",
      "metadata": {
        "id": "zfOTQ5RnvvJe",
        "colab_type": "text"
      },
      "source": [
        "##Creating Tensors on GPU"
      ]
    },
    {
      "cell_type": "code",
      "metadata": {
        "id": "JM9YvKi5v4Qo",
        "colab_type": "code",
        "colab": {}
      },
      "source": [
        "points_gpu = torch.tensor([[1.0, 4.0], [2.0, 1.0], [3.0, 4.0]],\n",
        "device='cuda')"
      ],
      "execution_count": 0,
      "outputs": []
    },
    {
      "cell_type": "markdown",
      "metadata": {
        "id": "NeOasYoRweqs",
        "colab_type": "text"
      },
      "source": [
        "OR can use below code to create Tensors on GPU"
      ]
    },
    {
      "cell_type": "code",
      "metadata": {
        "id": "mhHL4dDHv6CB",
        "colab_type": "code",
        "colab": {}
      },
      "source": [
        "points_gpu = points.to(device='cuda')"
      ],
      "execution_count": 0,
      "outputs": []
    },
    {
      "cell_type": "code",
      "metadata": {
        "id": "JFnfgyV0wkGK",
        "colab_type": "code",
        "colab": {}
      },
      "source": [
        ""
      ],
      "execution_count": 0,
      "outputs": []
    }
  ]
}